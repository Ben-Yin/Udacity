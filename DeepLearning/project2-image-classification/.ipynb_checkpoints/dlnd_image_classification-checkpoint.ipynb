{
 "cells": [
  {
   "cell_type": "markdown",
   "metadata": {
    "collapsed": true
   },
   "source": [
    "# Image Classification\n",
    "In this project, you'll classify images from the [CIFAR-10 dataset](https://www.cs.toronto.edu/~kriz/cifar.html).  The dataset consists of airplanes, dogs, cats, and other objects. You'll preprocess the images, then train a convolutional neural network on all the samples. The images need to be normalized and the labels need to be one-hot encoded.  You'll get to apply what you learned and build a convolutional, max pooling, dropout, and fully connected layers.  At the end, you'll get to see your neural network's predictions on the sample images.\n",
    "## Get the Data\n",
    "Run the following cell to download the [CIFAR-10 dataset for python](https://www.cs.toronto.edu/~kriz/cifar-10-python.tar.gz)."
   ]
  },
  {
   "cell_type": "code",
   "execution_count": 1,
   "metadata": {
    "collapsed": false
   },
   "outputs": [
    {
     "name": "stderr",
     "output_type": "stream",
     "text": [
      "CIFAR-10 Dataset: 171MB [00:52, 3.89MB/s]                               \n"
     ]
    },
    {
     "name": "stdout",
     "output_type": "stream",
     "text": [
      "All files found!\n"
     ]
    }
   ],
   "source": [
    "\"\"\"\n",
    "DON'T MODIFY ANYTHING IN THIS CELL THAT IS BELOW THIS LINE\n",
    "\"\"\"\n",
    "from urllib.request import urlretrieve\n",
    "from os.path import isfile, isdir\n",
    "from tqdm import tqdm\n",
    "import problem_unittests as tests\n",
    "import tarfile\n",
    "\n",
    "cifar10_dataset_folder_path = 'cifar-10-batches-py'\n",
    "\n",
    "class DLProgress(tqdm):\n",
    "    last_block = 0\n",
    "\n",
    "    def hook(self, block_num=1, block_size=1, total_size=None):\n",
    "        self.total = total_size\n",
    "        self.update((block_num - self.last_block) * block_size)\n",
    "        self.last_block = block_num\n",
    "\n",
    "if not isfile('cifar-10-python.tar.gz'):\n",
    "    with DLProgress(unit='B', unit_scale=True, miniters=1, desc='CIFAR-10 Dataset') as pbar:\n",
    "        urlretrieve(\n",
    "            'https://www.cs.toronto.edu/~kriz/cifar-10-python.tar.gz',\n",
    "            'cifar-10-python.tar.gz',\n",
    "            pbar.hook)\n",
    "\n",
    "if not isdir(cifar10_dataset_folder_path):\n",
    "    with tarfile.open('cifar-10-python.tar.gz') as tar:\n",
    "        tar.extractall()\n",
    "        tar.close()\n",
    "\n",
    "\n",
    "tests.test_folder_path(cifar10_dataset_folder_path)"
   ]
  },
  {
   "cell_type": "markdown",
   "metadata": {},
   "source": [
    "## Explore the Data\n",
    "The dataset is broken into batches to prevent your machine from running out of memory.  The CIFAR-10 dataset consists of 5 batches, named `data_batch_1`, `data_batch_2`, etc.. Each batch contains the labels and images that are one of the following:\n",
    "* airplane\n",
    "* automobile\n",
    "* bird\n",
    "* cat\n",
    "* deer\n",
    "* dog\n",
    "* frog\n",
    "* horse\n",
    "* ship\n",
    "* truck\n",
    "\n",
    "Understanding a dataset is part of making predictions on the data.  Play around with the code cell below by changing the `batch_id` and `sample_id`. The `batch_id` is the id for a batch (1-5). The `sample_id` is the id for a image and label pair in the batch.\n",
    "\n",
    "Ask yourself \"What are all possible labels?\", \"What is the range of values for the image data?\", \"Are the labels in order or random?\".  Answers to questions like these will help you preprocess the data and end up with better predictions."
   ]
  },
  {
   "cell_type": "code",
   "execution_count": 5,
   "metadata": {
    "collapsed": false
   },
   "outputs": [
    {
     "name": "stdout",
     "output_type": "stream",
     "text": [
      "\n",
      "Stats of batch 3:\n",
      "Samples: 10000\n",
      "Label Counts: {0: 994, 1: 1042, 2: 965, 3: 997, 4: 990, 5: 1029, 6: 978, 7: 1015, 8: 961, 9: 1029}\n",
      "First 20 Labels: [8, 5, 0, 6, 9, 2, 8, 3, 6, 2, 7, 4, 6, 9, 0, 0, 7, 3, 7, 2]\n",
      "\n",
      "Example of Image 1000:\n",
      "Image - Min Value: 37 Max Value: 230\n",
      "Image - Shape: (32, 32, 3)\n",
      "Label - Label Id: 0 Name: airplane\n"
     ]
    },
    {
     "data": {
      "image/png": "[encoded data removed]",
      "text/plain": [
       "<matplotlib.figure.Figure at 0x121f66320>"
      ]
     },
     "metadata": {
      "image/png": {
       "height": 250,
       "width": 253
      }
     },
     "output_type": "display_data"
    }
   ],
   "source": [
    "%matplotlib inline\n",
    "%config InlineBackend.figure_format = 'retina'\n",
    "\n",
    "import helper\n",
    "import numpy as np\n",
    "\n",
    "# Explore the dataset\n",
    "batch_id = 3\n",
    "sample_id = 1000\n",
    "helper.display_stats(cifar10_dataset_folder_path, batch_id, sample_id)"
   ]
  },
  {
   "cell_type": "markdown",
   "metadata": {},
   "source": [
    "## Implement Preprocess Functions\n",
    "### Normalize\n",
    "In the cell below, implement the `normalize` function to take in image data, `x`, and return it as a normalized Numpy array. The values should be in the range of 0 to 1, inclusive.  The return object should be the same shape as `x`."
   ]
  },
  {
   "cell_type": "code",
   "execution_count": 10,
   "metadata": {
    "collapsed": false
   },
   "outputs": [
    {
     "name": "stdout",
     "output_type": "stream",
     "text": [
      "Tests Passed\n"
     ]
    }
   ],
   "source": [
    "def normalize(x):\n",
    "    \"\"\"\n",
    "    Normalize a list of sample image data in the range of 0 to 1\n",
    "    : x: List of image data.  The image shape is (32, 32, 3)\n",
    "    : return: Numpy array of normalize data\n",
    "    \"\"\"\n",
    "    # TODO: Implement Function\n",
    "    return x/255.0\n",
    "\n",
    "\n",
    "\"\"\"\n",
    "DON'T MODIFY ANYTHING IN THIS CELL THAT IS BELOW THIS LINE\n",
    "\"\"\"\n",
    "tests.test_normalize(normalize)"
   ]
  },
  {
   "cell_type": "markdown",
   "metadata": {},
   "source": [
    "### One-hot encode\n",
    "Just like the previous code cell, you'll be implementing a function for preprocessing.  This time, you'll implement the `one_hot_encode` function. The input, `x`, are a list of labels.  Implement the function to return the list of labels as One-Hot encoded Numpy array.  The possible values for labels are 0 to 9. The one-hot encoding function should return the same encoding for each value between each call to `one_hot_encode`.  Make sure to save the map of encodings outside the function.\n",
    "\n",
    "Hint: Don't reinvent the wheel."
   ]
  },
  {
   "cell_type": "code",
   "execution_count": 29,
   "metadata": {
    "collapsed": false
   },
   "outputs": [
    {
     "name": "stdout",
     "output_type": "stream",
     "text": [
      "Tests Passed\n"
     ]
    }
   ],
   "source": [
    "def one_hot_encode(x):\n",
    "    \"\"\"\n",
    "    One hot encode a list of sample labels. Return a one-hot encoded vector for each label.\n",
    "    : x: List of sample Labels\n",
    "    : return: Numpy array of one-hot encoded labels\n",
    "    \"\"\"\n",
    "    # TODO: Implement Function\n",
    "#     one_hot = np.zeros((len(x), 10))\n",
    "#     for i, j in enumerate(x):\n",
    "#         one_hot[i][j]=1\n",
    "    one_hot = np.eye(10)[x]\n",
    "    return one_hot\n",
    "\n",
    "\n",
    "\"\"\"\n",
    "DON'T MODIFY ANYTHING IN THIS CELL THAT IS BELOW THIS LINE\n",
    "\"\"\"\n",
    "tests.test_one_hot_encode(one_hot_encode)"
   ]
  },
  {
   "cell_type": "markdown",
   "metadata": {},
   "source": [
    "### Randomize Data\n",
    "As you saw from exploring the data above, the order of the samples are randomized.  It doesn't hurt to randomize it again, but you don't need to for this dataset."
   ]
  },
  {
   "cell_type": "markdown",
   "metadata": {},
   "source": [
    "## Preprocess all the data and save it\n",
    "Running the code cell below will preprocess all the CIFAR-10 data and save it to file. The code below also uses 10% of the training data for validation."
   ]
  },
  {
   "cell_type": "code",
   "execution_count": 30,
   "metadata": {
    "collapsed": false
   },
   "outputs": [],
   "source": [
    "\"\"\"\n",
    "DON'T MODIFY ANYTHING IN THIS CELL\n",
    "\"\"\"\n",
    "# Preprocess Training, Validation, and Testing Data\n",
    "helper.preprocess_and_save_data(cifar10_dataset_folder_path, normalize, one_hot_encode)"
   ]
  },
  {
   "cell_type": "markdown",
   "metadata": {},
   "source": [
    "# Check Point\n",
    "This is your first checkpoint.  If you ever decide to come back to this notebook or have to restart the notebook, you can start from here.  The preprocessed data has been saved to disk."
   ]
  },
  {
   "cell_type": "code",
   "execution_count": 102,
   "metadata": {
    "collapsed": true
   },
   "outputs": [],
   "source": [
    "\"\"\"\n",
    "DON'T MODIFY ANYTHING IN THIS CELL\n",
    "\"\"\"\n",
    "import pickle\n",
    "import problem_unittests as tests\n",
    "import helper\n",
    "import functools\n",
    "# Load the Preprocessed Validation data\n",
    "valid_features, valid_labels = pickle.load(open('preprocess_validation.p', mode='rb'))"
   ]
  },
  {
   "cell_type": "markdown",
   "metadata": {},
   "source": [
    "## Build the network\n",
    "For the neural network, you'll build each layer into a function.  Most of the code you've seen has been outside of functions. To test your code more thoroughly, we require that you put each layer in a function.  This allows us to give you better feedback and test for simple mistakes using our unittests before you submit your project.\n",
    "\n",
    ">**Note:** If you're finding it hard to dedicate enough time for this course each week, we've provided a small shortcut to this part of the project. In the next couple of problems, you'll have the option to use classes from the [TensorFlow Layers](https://www.tensorflow.org/api_docs/python/tf/layers) or [TensorFlow Layers (contrib)](https://www.tensorflow.org/api_guides/python/contrib.layers) packages to build each layer, except the layers you build in the \"Convolutional and Max Pooling Layer\" section.  TF Layers is similar to Keras's and TFLearn's abstraction to layers, so it's easy to pickup.\n",
    "\n",
    ">However, if you would like to get the most out of this course, try to solve all the problems _without_ using anything from the TF Layers packages. You **can** still use classes from other packages that happen to have the same name as ones you find in TF Layers! For example, instead of using the TF Layers version of the `conv2d` class, [tf.layers.conv2d](https://www.tensorflow.org/api_docs/python/tf/layers/conv2d), you would want to use the TF Neural Network version of `conv2d`, [tf.nn.conv2d](https://www.tensorflow.org/api_docs/python/tf/nn/conv2d). \n",
    "\n",
    "Let's begin!\n",
    "\n",
    "### Input\n",
    "The neural network needs to read the image data, one-hot encoded labels, and dropout keep probability. Implement the following functions\n",
    "* Implement `neural_net_image_input`\n",
    " * Return a [TF Placeholder](https://www.tensorflow.org/api_docs/python/tf/placeholder)\n",
    " * Set the shape using `image_shape` with batch size set to `None`.\n",
    " * Name the TensorFlow placeholder \"x\" using the TensorFlow `name` parameter in the [TF Placeholder](https://www.tensorflow.org/api_docs/python/tf/placeholder).\n",
    "* Implement `neural_net_label_input`\n",
    " * Return a [TF Placeholder](https://www.tensorflow.org/api_docs/python/tf/placeholder)\n",
    " * Set the shape using `n_classes` with batch size set to `None`.\n",
    " * Name the TensorFlow placeholder \"y\" using the TensorFlow `name` parameter in the [TF Placeholder](https://www.tensorflow.org/api_docs/python/tf/placeholder).\n",
    "* Implement `neural_net_keep_prob_input`\n",
    " * Return a [TF Placeholder](https://www.tensorflow.org/api_docs/python/tf/placeholder) for dropout keep probability.\n",
    " * Name the TensorFlow placeholder \"keep_prob\" using the TensorFlow `name` parameter in the [TF Placeholder](https://www.tensorflow.org/api_docs/python/tf/placeholder).\n",
    "\n",
    "These names will be used at the end of the project to load your saved model.\n",
    "\n",
    "Note: `None` for shapes in TensorFlow allow for a dynamic size."
   ]
  },
  {
   "cell_type": "code",
   "execution_count": 40,
   "metadata": {
    "collapsed": false
   },
   "outputs": [
    {
     "name": "stdout",
     "output_type": "stream",
     "text": [
      "Image Input Tests Passed.\n",
      "Label Input Tests Passed.\n",
      "Keep Prob Tests Passed.\n"
     ]
    }
   ],
   "source": [
    "import tensorflow as tf\n",
    "\n",
    "def neural_net_image_input(image_shape):\n",
    "    \"\"\"\n",
    "    Return a Tensor for a batch of image input\n",
    "    : image_shape: Shape of the images\n",
    "    : return: Tensor for image input.\n",
    "    \"\"\"\n",
    "    # TODO: Implement Function\n",
    "    return tf.placeholder(tf.float32, (None,)+image_shape, \"x\")\n",
    "\n",
    "\n",
    "def neural_net_label_input(n_classes):\n",
    "    \"\"\"\n",
    "    Return a Tensor for a batch of label input\n",
    "    : n_classes: Number of classes\n",
    "    : return: Tensor for label input.\n",
    "    \"\"\"\n",
    "    # TODO: Implement Function\n",
    "    return tf.placeholder(tf.float32, (None, n_classes), \"y\")\n",
    "\n",
    "\n",
    "def neural_net_keep_prob_input():\n",
    "    \"\"\"\n",
    "    Return a Tensor for keep probability\n",
    "    : return: Tensor for keep probability.\n",
    "    \"\"\"\n",
    "    # TODO: Implement Function\n",
    "    return tf.placeholder(tf.float32, name=\"keep_prob\")\n",
    "\n",
    "\n",
    "\"\"\"\n",
    "DON'T MODIFY ANYTHING IN THIS CELL THAT IS BELOW THIS LINE\n",
    "\"\"\"\n",
    "tf.reset_default_graph()\n",
    "tests.test_nn_image_inputs(neural_net_image_input)\n",
    "tests.test_nn_label_inputs(neural_net_label_input)\n",
    "tests.test_nn_keep_prob_inputs(neural_net_keep_prob_input)"
   ]
  },
  {
   "cell_type": "markdown",
   "metadata": {},
   "source": [
    "### Convolution and Max Pooling Layer\n",
    "Convolution layers have a lot of success with images. For this code cell, you should implement the function `conv2d_maxpool` to apply convolution then max pooling:\n",
    "* Create the weight and bias using `conv_ksize`, `conv_num_outputs` and the shape of `x_tensor`.\n",
    "* Apply a convolution to `x_tensor` using weight and `conv_strides`.\n",
    " * We recommend you use same padding, but you're welcome to use any padding.\n",
    "* Add bias\n",
    "* Add a nonlinear activation to the convolution.\n",
    "* Apply Max Pooling using `pool_ksize` and `pool_strides`.\n",
    " * We recommend you use same padding, but you're welcome to use any padding.\n",
    "\n",
    "**Note:** You **can't** use [TensorFlow Layers](https://www.tensorflow.org/api_docs/python/tf/layers) or [TensorFlow Layers (contrib)](https://www.tensorflow.org/api_guides/python/contrib.layers) for **this** layer, but you can still use TensorFlow's [Neural Network](https://www.tensorflow.org/api_docs/python/tf/nn) package. You may still use the shortcut option for all the **other** layers."
   ]
  },
  {
   "cell_type": "code",
   "execution_count": 180,
   "metadata": {
    "collapsed": false
   },
   "outputs": [
    {
     "name": "stdout",
     "output_type": "stream",
     "text": [
      "Tests Passed\n"
     ]
    }
   ],
   "source": [
    "def conv2d_maxpool(x_tensor, conv_num_outputs, conv_ksize, conv_strides, pool_ksize, pool_strides):\n",
    "    \"\"\"\n",
    "    Apply convolution then max pooling to x_tensor\n",
    "    :param x_tensor: TensorFlow Tensor\n",
    "    :param conv_num_outputs: Number of outputs for the convolutional layer\n",
    "    :param conv_ksize: kernal size 2-D Tuple for the convolutional layer\n",
    "    :param conv_strides: Stride 2-D Tuple for convolution\n",
    "    :param pool_ksize: kernal size 2-D Tuple for pool\n",
    "    :param pool_strides: Stride 2-D Tuple for pool\n",
    "    : return: A tensor that represents convolution and max pooling of x_tensor\n",
    "    \"\"\"\n",
    "    # TODO: Implement Function\n",
    "    weights_shape = conv_ksize + (x_tensor.shape[3].value, conv_num_outputs)\n",
    "    weights = tf.Variable(tf.truncated_normal(weights_shape, stddev=0.1), name=\"conv_weights\")\n",
    "    bias = tf.Variable(tf.zeros(conv_num_outputs))\n",
    "    \n",
    "    conv_strides = (1,) + conv_strides + (1,)\n",
    "    pool_strides = (1,) + pool_strides + (1,)\n",
    "    pool_size = (1,) + pool_ksize + (1,)\n",
    "    \n",
    "    conv_layer = tf.nn.conv2d(x_tensor, weights, conv_strides, \"SAME\")\n",
    "    conv_layer = tf.nn.bias_add(conv_layer, bias)\n",
    "    conv_layer = tf.nn.relu(conv_layer)\n",
    "    conv_layer = tf.nn.max_pool(conv_layer, pool_size, pool_strides, \"SAME\", name=\"conv_layer\")\n",
    "    return conv_layer \n",
    "\n",
    "\n",
    "\"\"\"\n",
    "DON'T MODIFY ANYTHING IN THIS CELL THAT IS BELOW THIS LINE\n",
    "\"\"\"\n",
    "tests.test_con_pool(conv2d_maxpool)"
   ]
  },
  {
   "cell_type": "markdown",
   "metadata": {},
   "source": [
    "### Flatten Layer\n",
    "Implement the `flatten` function to change the dimension of `x_tensor` from a 4-D tensor to a 2-D tensor.  The output should be the shape (*Batch Size*, *Flattened Image Size*). Shortcut option: you can use classes from the [TensorFlow Layers](https://www.tensorflow.org/api_docs/python/tf/layers) or [TensorFlow Layers (contrib)](https://www.tensorflow.org/api_guides/python/contrib.layers) packages for this layer. For more of a challenge, only use other TensorFlow packages."
   ]
  },
  {
   "cell_type": "code",
   "execution_count": 181,
   "metadata": {
    "collapsed": false
   },
   "outputs": [
    {
     "name": "stdout",
     "output_type": "stream",
     "text": [
      "Tests Passed\n"
     ]
    }
   ],
   "source": [
    "def flatten(x_tensor):\n",
    "    \"\"\"\n",
    "    Flatten x_tensor to (Batch Size, Flattened Image Size)\n",
    "    : x_tensor: A tensor of size (Batch Size, ...), where ... are the image dimensions.\n",
    "    : return: A tensor of size (Batch Size, Flattened Image Size).\n",
    "    \"\"\"\n",
    "    # TODO: Implement Function\n",
    "    \n",
    "    x = tf.convert_to_tensor(x_tensor)\n",
    "    batch_dim = tf.slice(tf.shape(x), [0], [1])\n",
    "    x_dim = tf.slice(tf.shape(x), [1], [x.shape.ndims-1])\n",
    "    \n",
    "    flatten_dim = tf.expand_dims(tf.reduce_prod(x_dim), 0)\n",
    "    flatten_shape = tf.concat([batch_dim, flatten_dim], 0)\n",
    "    \n",
    "    flatten = tf.reshape(x, flatten_shape, name=\"flatten_layer\")\n",
    "\n",
    "    x_shape = x.shape.as_list()\n",
    "    batch_dim, spatial_dims = x_shape[0], x_shape[1:]\n",
    "    if all(spatial_dims):\n",
    "        flatten.set_shape([batch_dim,\n",
    "                         functools.reduce(lambda x, y: x * y, spatial_dims)])\n",
    "    else:\n",
    "        flatten.set_shape([batch_dim, None])\n",
    "    \n",
    "#   flatten = tf.contrib.layers.flatten(x_tensor)  \n",
    "    return flatten\n",
    "\n",
    "\n",
    "\"\"\"\n",
    "DON'T MODIFY ANYTHING IN THIS CELL THAT IS BELOW THIS LINE\n",
    "\"\"\"\n",
    "tests.test_flatten(flatten)"
   ]
  },
  {
   "cell_type": "markdown",
   "metadata": {},
   "source": [
    "### Fully-Connected Layer\n",
    "Implement the `fully_conn` function to apply a fully connected layer to `x_tensor` with the shape (*Batch Size*, *num_outputs*). Shortcut option: you can use classes from the [TensorFlow Layers](https://www.tensorflow.org/api_docs/python/tf/layers) or [TensorFlow Layers (contrib)](https://www.tensorflow.org/api_guides/python/contrib.layers) packages for this layer. For more of a challenge, only use other TensorFlow packages."
   ]
  },
  {
   "cell_type": "code",
   "execution_count": 182,
   "metadata": {
    "collapsed": false
   },
   "outputs": [
    {
     "name": "stdout",
     "output_type": "stream",
     "text": [
      "Tests Passed\n"
     ]
    }
   ],
   "source": [
    "def fully_conn(x_tensor, num_outputs):\n",
    "    \"\"\"\n",
    "    Apply a fully connected layer to x_tensor using weight and bias\n",
    "    : x_tensor: A 2-D tensor where the first dimension is batch size.\n",
    "    : num_outputs: The number of output that the new tensor should be.\n",
    "    : return: A 2-D tensor where the second dimension is num_outputs.\n",
    "    \"\"\"\n",
    "    # TODO: Implement Function\n",
    "    weights_shape = (x_tensor.shape[1].value, num_outputs)\n",
    "    weights = tf.Variable(tf.truncated_normal(weights_shape, stddev=0.1), name=\"fully_conn_weights\")\n",
    "    bias = tf.Variable(tf.zeros(num_outputs), name=\"fully_conn_bias\")\n",
    "    \n",
    "    fully_conn_layer = tf.matmul(x_tensor, weights)\n",
    "    fully_conn_layer = tf.nn.bias_add(fully_conn_layer, bias, name=\"fully_conn_layer\")\n",
    "    fully_conn_layer = tf.nn.relu(fully_conn_layer, name=\"fully_conn_layer\")\n",
    "    return fully_conn_layer\n",
    "\n",
    "\"\"\"\n",
    "DON'T MODIFY ANYTHING IN THIS CELL THAT IS BELOW THIS LINE\n",
    "\"\"\"\n",
    "tests.test_fully_conn(fully_conn)"
   ]
  },
  {
   "cell_type": "markdown",
   "metadata": {},
   "source": [
    "### Output Layer\n",
    "Implement the `output` function to apply a fully connected layer to `x_tensor` with the shape (*Batch Size*, *num_outputs*). Shortcut option: you can use classes from the [TensorFlow Layers](https://www.tensorflow.org/api_docs/python/tf/layers) or [TensorFlow Layers (contrib)](https://www.tensorflow.org/api_guides/python/contrib.layers) packages for this layer. For more of a challenge, only use other TensorFlow packages.\n",
    "\n",
    "**Note:** Activation, softmax, or cross entropy should **not** be applied to this."
   ]
  },
  {
   "cell_type": "code",
   "execution_count": 185,
   "metadata": {
    "collapsed": false
   },
   "outputs": [
    {
     "name": "stdout",
     "output_type": "stream",
     "text": [
      "Tests Passed\n"
     ]
    }
   ],
   "source": [
    "def output(x_tensor, num_outputs):\n",
    "    \"\"\"\n",
    "    Apply a output layer to x_tensor using weight and bias\n",
    "    : x_tensor: A 2-D tensor where the first dimension is batch size.\n",
    "    : num_outputs: The number of output that the new tensor should be.\n",
    "    : return: A 2-D tensor where the second dimension is num_outputs.\n",
    "    \"\"\"\n",
    "    # TODO: Implement Function\n",
    "    weights_shape = (x_tensor.shape[1].value, num_outputs)\n",
    "    weights = tf.Variable(tf.truncated_normal(weights_shape, stddev=0.1), name=\"output_weights\")\n",
    "    bias = tf.Variable(tf.zeros(num_outputs), name=\"output_bias\")\n",
    "    \n",
    "    output_layer = tf.matmul(x_tensor, weights)\n",
    "    output_layer = tf.nn.bias_add(output_layer, bias, name=\"output_layer\")\n",
    "    return output_layer\n",
    "\n",
    "\"\"\"\n",
    "DON'T MODIFY ANYTHING IN THIS CELL THAT IS BELOW THIS LINE\n",
    "\"\"\"\n",
    "tests.test_output(output)"
   ]
  },
  {
   "cell_type": "markdown",
   "metadata": {},
   "source": [
    "### Create Convolutional Model\n",
    "Implement the function `conv_net` to create a convolutional neural network model. The function takes in a batch of images, `x`, and outputs logits.  Use the layers you created above to create this model:\n",
    "\n",
    "* Apply 1, 2, or 3 Convolution and Max Pool layers\n",
    "* Apply a Flatten Layer\n",
    "* Apply 1, 2, or 3 Fully Connected Layers\n",
    "* Apply an Output Layer\n",
    "* Return the output\n",
    "* Apply [TensorFlow's Dropout](https://www.tensorflow.org/api_docs/python/tf/nn/dropout) to one or more layers in the model using `keep_prob`. "
   ]
  },
  {
   "cell_type": "code",
   "execution_count": 186,
   "metadata": {
    "collapsed": false
   },
   "outputs": [
    {
     "name": "stdout",
     "output_type": "stream",
     "text": [
      "Neural Network Built!\n"
     ]
    }
   ],
   "source": [
    "def conv_net(x, keep_prob):\n",
    "    \"\"\"\n",
    "    Create a convolutional neural network model\n",
    "    : x: Placeholder tensor that holds image data.\n",
    "    : keep_prob: Placeholder tensor that hold dropout keep probability.\n",
    "    : return: Tensor that represents logits\n",
    "    \"\"\"\n",
    "    # TODO: Apply 1, 2, or 3 Convolution and Max Pool layers\n",
    "    #    Play around with different number of outputs, kernel size and stride\n",
    "    # Function Definition from Above:\n",
    "    #    conv2d_maxpool(x_tensor, conv_num_outputs, conv_ksize, conv_strides, pool_ksize, pool_strides)\n",
    "    conv_num_outputs_list = [16, 32, 64]\n",
    "    conv_ksize = (4, 4)\n",
    "    conv_strides  = (1, 1)\n",
    "    pool_ksize = (2, 2)\n",
    "    pool_strides  = (2, 2)\n",
    "    \n",
    "    conv_layer_1 = conv2d_maxpool(x, conv_num_outputs_list[0], conv_ksize, conv_strides, pool_ksize, pool_strides)\n",
    "    conv_layer_2 = conv2d_maxpool(conv_layer_1, conv_num_outputs_list[1], conv_ksize, conv_strides, pool_ksize, pool_strides)\n",
    "    conv_layer_3 = conv2d_maxpool(conv_layer_2, conv_num_outputs_list[2], conv_ksize, conv_strides, pool_ksize, pool_strides)\n",
    "    \n",
    "\n",
    "    # TODO: Apply a Flatten Layer\n",
    "    # Function Definition from Above:\n",
    "    #   flatten(x_tensor)\n",
    "    flatten_layer = flatten(conv_layer_3)\n",
    "\n",
    "    # TODO: Apply 1, 2, or 3 Fully Connected Layers\n",
    "    #    Play around with different number of outputs\n",
    "    # Function Definition from Above:\n",
    "    #   fully_conn(x_tensor, num_outputs)\n",
    "    fully_conn_layer = fully_conn(flatten_layer, 10)\n",
    "    fully_conn_layer = tf.nn.dropout(fully_conn_layer, keep_prob)\n",
    "    # TODO: Apply an Output Layer\n",
    "    #    Set this to the number of classes\n",
    "    # Function Definition from Above:\n",
    "    #   output(x_tensor, num_outputs)\n",
    "    output_layer = output(fully_conn_layer, 10) \n",
    "    \n",
    "    # TODO: return output\n",
    "    return output_layer\n",
    "\n",
    "\n",
    "\"\"\"\n",
    "DON'T MODIFY ANYTHING IN THIS CELL THAT IS BELOW THIS LINE\n",
    "\"\"\"\n",
    "\n",
    "##############################\n",
    "## Build the Neural Network ##\n",
    "##############################\n",
    "\n",
    "# Remove previous weights, bias, inputs, etc..\n",
    "tf.reset_default_graph()\n",
    "\n",
    "# Inputs\n",
    "x = neural_net_image_input((32, 32, 3))\n",
    "y = neural_net_label_input(10)\n",
    "keep_prob = neural_net_keep_prob_input()\n",
    "\n",
    "# Model\n",
    "logits = conv_net(x, keep_prob)\n",
    "\n",
    "# Name logits Tensor, so that is can be loaded from disk after training\n",
    "logits = tf.identity(logits, name='logits')\n",
    "\n",
    "# Loss and Optimizer\n",
    "cost = tf.reduce_mean(tf.nn.softmax_cross_entropy_with_logits(logits=logits, labels=y))\n",
    "optimizer = tf.train.AdamOptimizer().minimize(cost)\n",
    "\n",
    "# Accuracy\n",
    "correct_pred = tf.equal(tf.argmax(logits, 1), tf.argmax(y, 1))\n",
    "accuracy = tf.reduce_mean(tf.cast(correct_pred, tf.float32), name='accuracy')\n",
    "\n",
    "tests.test_conv_net(conv_net)"
   ]
  },
  {
   "cell_type": "markdown",
   "metadata": {},
   "source": [
    "## Train the Neural Network\n",
    "### Single Optimization\n",
    "Implement the function `train_neural_network` to do a single optimization.  The optimization should use `optimizer` to optimize in `session` with a `feed_dict` of the following:\n",
    "* `x` for image input\n",
    "* `y` for labels\n",
    "* `keep_prob` for keep probability for dropout\n",
    "\n",
    "This function will be called for each batch, so `tf.global_variables_initializer()` has already been called.\n",
    "\n",
    "Note: Nothing needs to be returned. This function is only optimizing the neural network."
   ]
  },
  {
   "cell_type": "code",
   "execution_count": 187,
   "metadata": {
    "collapsed": false
   },
   "outputs": [
    {
     "name": "stdout",
     "output_type": "stream",
     "text": [
      "Tests Passed\n"
     ]
    }
   ],
   "source": [
    "def train_neural_network(session, optimizer, keep_probability, feature_batch, label_batch):\n",
    "    \"\"\"\n",
    "    Optimize the session on a batch of images and labels\n",
    "    : session: Current TensorFlow session\n",
    "    : optimizer: TensorFlow optimizer function\n",
    "    : keep_probability: keep probability\n",
    "    : feature_batch: Batch of Numpy image data\n",
    "    : label_batch: Batch of Numpy label data\n",
    "    \"\"\"\n",
    "    # TODO: Implement Function\n",
    "    session.run(optimizer, feed_dict={x: feature_batch, y: label_batch, keep_prob: keep_probability})\n",
    "\n",
    "\n",
    "\"\"\"\n",
    "DON'T MODIFY ANYTHING IN THIS CELL THAT IS BELOW THIS LINE\n",
    "\"\"\"\n",
    "tests.test_train_nn(train_neural_network)"
   ]
  },
  {
   "cell_type": "markdown",
   "metadata": {},
   "source": [
    "### Show Stats\n",
    "Implement the function `print_stats` to print loss and validation accuracy.  Use the global variables `valid_features` and `valid_labels` to calculate validation accuracy.  Use a keep probability of `1.0` to calculate the loss and validation accuracy."
   ]
  },
  {
   "cell_type": "code",
   "execution_count": 188,
   "metadata": {
    "collapsed": false
   },
   "outputs": [],
   "source": [
    "def print_stats(session, feature_batch, label_batch, cost, accuracy):\n",
    "    \"\"\"\n",
    "    Print information about loss and validation accuracy\n",
    "    : session: Current TensorFlow session\n",
    "    : feature_batch: Batch of Numpy image data\n",
    "    : label_batch: Batch of Numpy label data\n",
    "    : cost: TensorFlow cost function\n",
    "    : accuracy: TensorFlow accuracy function\n",
    "    \"\"\"\n",
    "    # TODO: Implement Function\n",
    "    loss = session.run(cost, feed_dict={x: feature_batch, y:label_batch, keep_prob: 1.0})\n",
    "    valid_accuracy = session.run(accuracy, feed_dict={x: valid_features, y:valid_labels, keep_prob: 1.0})\n",
    "    print(\"Loss: {:>6.4f}  Validation Accuracy: {:.4f}\".format(loss, valid_accuracy))"
   ]
  },
  {
   "cell_type": "markdown",
   "metadata": {},
   "source": [
    "### Hyperparameters\n",
    "Tune the following parameters:\n",
    "* Set `epochs` to the number of iterations until the network stops learning or start overfitting\n",
    "* Set `batch_size` to the highest number that your machine has memory for.  Most people set them to common sizes of memory:\n",
    " * 64\n",
    " * 128\n",
    " * 256\n",
    " * ...\n",
    "* Set `keep_probability` to the probability of keeping a node using dropout"
   ]
  },
  {
   "cell_type": "code",
   "execution_count": 191,
   "metadata": {
    "collapsed": true
   },
   "outputs": [],
   "source": [
    "# TODO: Tune Parameters\n",
    "epochs = 100\n",
    "batch_size = 256\n",
    "keep_probability = 0.8"
   ]
  },
  {
   "cell_type": "markdown",
   "metadata": {},
   "source": [
    "### Train on a Single CIFAR-10 Batch\n",
    "Instead of training the neural network on all the CIFAR-10 batches of data, let's use a single batch. This should save time while you iterate on the model to get a better accuracy.  Once the final validation accuracy is 50% or greater, run the model on all the data in the next section."
   ]
  },
  {
   "cell_type": "code",
   "execution_count": 170,
   "metadata": {
    "collapsed": false
   },
   "outputs": [
    {
     "name": "stdout",
     "output_type": "stream",
     "text": [
      "Checking the Training on a Single Batch...\n",
      "Epoch  1, CIFAR-10 Batch 1:  Loss:     2.3026     Validation Accuracy: 0.098800\n",
      "Epoch  2, CIFAR-10 Batch 1:  Loss:     2.3026     Validation Accuracy: 0.099000\n",
      "Epoch  3, CIFAR-10 Batch 1:  Loss:     2.3026     Validation Accuracy: 0.099000\n",
      "Epoch  4, CIFAR-10 Batch 1:  Loss:     2.3026     Validation Accuracy: 0.098400\n",
      "Epoch  5, CIFAR-10 Batch 1:  Loss:     2.3026     Validation Accuracy: 0.098400\n",
      "Epoch  6, CIFAR-10 Batch 1:  Loss:     2.3026     Validation Accuracy: 0.098400\n",
      "Epoch  7, CIFAR-10 Batch 1:  Loss:     2.3026     Validation Accuracy: 0.098400\n",
      "Epoch  8, CIFAR-10 Batch 1:  Loss:     2.3026     Validation Accuracy: 0.098400\n",
      "Epoch  9, CIFAR-10 Batch 1:  Loss:     2.3026     Validation Accuracy: 0.098400\n",
      "Epoch 10, CIFAR-10 Batch 1:  Loss:     2.3026     Validation Accuracy: 0.098200\n"
     ]
    }
   ],
   "source": [
    "\"\"\"\n",
    "DON'T MODIFY ANYTHING IN THIS CELL\n",
    "\"\"\"\n",
    "print('Checking the Training on a Single Batch...')\n",
    "with tf.Session() as sess:\n",
    "    # Initializing the variables\n",
    "    sess.run(tf.global_variables_initializer())\n",
    "    \n",
    "    # Training cycle\n",
    "    for epoch in range(epochs):\n",
    "        batch_i = 1\n",
    "        for batch_features, batch_labels in helper.load_preprocess_training_batch(batch_i, batch_size):\n",
    "            train_neural_network(sess, optimizer, keep_probability, batch_features, batch_labels)\n",
    "        print('Epoch {:>2}, CIFAR-10 Batch {}:  '.format(epoch + 1, batch_i), end='')\n",
    "        print_stats(sess, batch_features, batch_labels, cost, accuracy)"
   ]
  },
  {
   "cell_type": "markdown",
   "metadata": {},
   "source": [
    "### Fully Train the Model\n",
    "Now that you got a good accuracy with a single CIFAR-10 batch, try it with all five batches."
   ]
  },
  {
   "cell_type": "code",
   "execution_count": 192,
   "metadata": {
    "collapsed": false
   },
   "outputs": [
    {
     "name": "stdout",
     "output_type": "stream",
     "text": [
      "Training...\n",
      "Epoch  1, CIFAR-10 Batch 1:  Loss: 2.2472  Validation Accuracy: 0.1652\n",
      "Epoch  1, CIFAR-10 Batch 2:  Loss: 2.2197  Validation Accuracy: 0.2520\n",
      "Epoch  1, CIFAR-10 Batch 3:  Loss: 1.8955  Validation Accuracy: 0.2932\n",
      "Epoch  1, CIFAR-10 Batch 4:  Loss: 1.8806  Validation Accuracy: 0.3226\n",
      "Epoch  1, CIFAR-10 Batch 5:  Loss: 1.8179  Validation Accuracy: 0.3596\n",
      "Epoch  2, CIFAR-10 Batch 1:  Loss: 1.9865  Validation Accuracy: 0.3766\n",
      "Epoch  2, CIFAR-10 Batch 2:  Loss: 1.7393  Validation Accuracy: 0.4066\n",
      "Epoch  2, CIFAR-10 Batch 3:  Loss: 1.4919  Validation Accuracy: 0.4078\n",
      "Epoch  2, CIFAR-10 Batch 4:  Loss: 1.5969  Validation Accuracy: 0.4258\n",
      "Epoch  2, CIFAR-10 Batch 5:  Loss: 1.6071  Validation Accuracy: 0.4172\n",
      "Epoch  3, CIFAR-10 Batch 1:  Loss: 1.7288  Validation Accuracy: 0.4488\n",
      "Epoch  3, CIFAR-10 Batch 2:  Loss: 1.5289  Validation Accuracy: 0.4710\n",
      "Epoch  3, CIFAR-10 Batch 3:  Loss: 1.2569  Validation Accuracy: 0.4420\n",
      "Epoch  3, CIFAR-10 Batch 4:  Loss: 1.4595  Validation Accuracy: 0.4742\n",
      "Epoch  3, CIFAR-10 Batch 5:  Loss: 1.4661  Validation Accuracy: 0.4684\n",
      "Epoch  4, CIFAR-10 Batch 1:  Loss: 1.6106  Validation Accuracy: 0.4840\n",
      "Epoch  4, CIFAR-10 Batch 2:  Loss: 1.4443  Validation Accuracy: 0.4788\n",
      "Epoch  4, CIFAR-10 Batch 3:  Loss: 1.1750  Validation Accuracy: 0.4674\n",
      "Epoch  4, CIFAR-10 Batch 4:  Loss: 1.3708  Validation Accuracy: 0.4972\n",
      "Epoch  4, CIFAR-10 Batch 5:  Loss: 1.3299  Validation Accuracy: 0.4906\n",
      "Epoch  5, CIFAR-10 Batch 1:  Loss: 1.5095  Validation Accuracy: 0.5022\n",
      "Epoch  5, CIFAR-10 Batch 2:  Loss: 1.3289  Validation Accuracy: 0.5068\n",
      "Epoch  5, CIFAR-10 Batch 3:  Loss: 1.1163  Validation Accuracy: 0.4966\n",
      "Epoch  5, CIFAR-10 Batch 4:  Loss: 1.3153  Validation Accuracy: 0.5136\n",
      "Epoch  5, CIFAR-10 Batch 5:  Loss: 1.2742  Validation Accuracy: 0.5222\n",
      "Epoch  6, CIFAR-10 Batch 1:  Loss: 1.4295  Validation Accuracy: 0.4916\n",
      "Epoch  6, CIFAR-10 Batch 2:  Loss: 1.2460  Validation Accuracy: 0.5116\n",
      "Epoch  6, CIFAR-10 Batch 3:  Loss: 1.0543  Validation Accuracy: 0.5184\n",
      "Epoch  6, CIFAR-10 Batch 4:  Loss: 1.2798  Validation Accuracy: 0.5194\n",
      "Epoch  6, CIFAR-10 Batch 5:  Loss: 1.2061  Validation Accuracy: 0.5236\n",
      "Epoch  7, CIFAR-10 Batch 1:  Loss: 1.3290  Validation Accuracy: 0.5198\n",
      "Epoch  7, CIFAR-10 Batch 2:  Loss: 1.1793  Validation Accuracy: 0.5230\n",
      "Epoch  7, CIFAR-10 Batch 3:  Loss: 1.0385  Validation Accuracy: 0.5258\n",
      "Epoch  7, CIFAR-10 Batch 4:  Loss: 1.2688  Validation Accuracy: 0.5262\n",
      "Epoch  7, CIFAR-10 Batch 5:  Loss: 1.1472  Validation Accuracy: 0.5436\n",
      "Epoch  8, CIFAR-10 Batch 1:  Loss: 1.2780  Validation Accuracy: 0.5190\n",
      "Epoch  8, CIFAR-10 Batch 2:  Loss: 1.0998  Validation Accuracy: 0.5406\n",
      "Epoch  8, CIFAR-10 Batch 3:  Loss: 1.0267  Validation Accuracy: 0.5346\n",
      "Epoch  8, CIFAR-10 Batch 4:  Loss: 1.2033  Validation Accuracy: 0.5396\n",
      "Epoch  8, CIFAR-10 Batch 5:  Loss: 1.0755  Validation Accuracy: 0.5492\n",
      "Epoch  9, CIFAR-10 Batch 1:  Loss: 1.2058  Validation Accuracy: 0.5460\n",
      "Epoch  9, CIFAR-10 Batch 2:  Loss: 1.0946  Validation Accuracy: 0.5558\n",
      "Epoch  9, CIFAR-10 Batch 3:  Loss: 0.9586  Validation Accuracy: 0.5426\n",
      "Epoch  9, CIFAR-10 Batch 4:  Loss: 1.1376  Validation Accuracy: 0.5576\n",
      "Epoch  9, CIFAR-10 Batch 5:  Loss: 1.0260  Validation Accuracy: 0.5566\n",
      "Epoch 10, CIFAR-10 Batch 1:  Loss: 1.1731  Validation Accuracy: 0.5382\n",
      "Epoch 10, CIFAR-10 Batch 2:  Loss: 1.0245  Validation Accuracy: 0.5684\n",
      "Epoch 10, CIFAR-10 Batch 3:  Loss: 0.9013  Validation Accuracy: 0.5590\n",
      "Epoch 10, CIFAR-10 Batch 4:  Loss: 1.1070  Validation Accuracy: 0.5620\n",
      "Epoch 10, CIFAR-10 Batch 5:  Loss: 0.9483  Validation Accuracy: 0.5662\n",
      "Epoch 11, CIFAR-10 Batch 1:  Loss: 1.0874  Validation Accuracy: 0.5576\n",
      "Epoch 11, CIFAR-10 Batch 2:  Loss: 0.9886  Validation Accuracy: 0.5732\n",
      "Epoch 11, CIFAR-10 Batch 3:  Loss: 0.9538  Validation Accuracy: 0.5568\n",
      "Epoch 11, CIFAR-10 Batch 4:  Loss: 1.0513  Validation Accuracy: 0.5768\n",
      "Epoch 11, CIFAR-10 Batch 5:  Loss: 0.9476  Validation Accuracy: 0.5678\n",
      "Epoch 12, CIFAR-10 Batch 1:  Loss: 1.0451  Validation Accuracy: 0.5598\n",
      "Epoch 12, CIFAR-10 Batch 2:  Loss: 0.9277  Validation Accuracy: 0.5818\n",
      "Epoch 12, CIFAR-10 Batch 3:  Loss: 0.8347  Validation Accuracy: 0.5772\n",
      "Epoch 12, CIFAR-10 Batch 4:  Loss: 1.0288  Validation Accuracy: 0.5810\n",
      "Epoch 12, CIFAR-10 Batch 5:  Loss: 0.8717  Validation Accuracy: 0.5870\n",
      "Epoch 13, CIFAR-10 Batch 1:  Loss: 1.0185  Validation Accuracy: 0.5616\n",
      "Epoch 13, CIFAR-10 Batch 2:  Loss: 0.8769  Validation Accuracy: 0.5888\n",
      "Epoch 13, CIFAR-10 Batch 3:  Loss: 0.8673  Validation Accuracy: 0.5710\n",
      "Epoch 13, CIFAR-10 Batch 4:  Loss: 0.9661  Validation Accuracy: 0.5870\n",
      "Epoch 13, CIFAR-10 Batch 5:  Loss: 0.8071  Validation Accuracy: 0.5940\n",
      "Epoch 14, CIFAR-10 Batch 1:  Loss: 0.9513  Validation Accuracy: 0.5686\n",
      "Epoch 14, CIFAR-10 Batch 2:  Loss: 0.8549  Validation Accuracy: 0.5882\n",
      "Epoch 14, CIFAR-10 Batch 3:  Loss: 0.7269  Validation Accuracy: 0.5890\n",
      "Epoch 14, CIFAR-10 Batch 4:  Loss: 0.9111  Validation Accuracy: 0.5958\n",
      "Epoch 14, CIFAR-10 Batch 5:  Loss: 0.7728  Validation Accuracy: 0.6014\n",
      "Epoch 15, CIFAR-10 Batch 1:  Loss: 0.9081  Validation Accuracy: 0.5788\n",
      "Epoch 15, CIFAR-10 Batch 2:  Loss: 0.7984  Validation Accuracy: 0.5886\n",
      "Epoch 15, CIFAR-10 Batch 3:  Loss: 0.7086  Validation Accuracy: 0.5924\n",
      "Epoch 15, CIFAR-10 Batch 4:  Loss: 0.9115  Validation Accuracy: 0.5930\n",
      "Epoch 15, CIFAR-10 Batch 5:  Loss: 0.7204  Validation Accuracy: 0.6058\n",
      "Epoch 16, CIFAR-10 Batch 1:  Loss: 0.9075  Validation Accuracy: 0.5750\n",
      "Epoch 16, CIFAR-10 Batch 2:  Loss: 0.7984  Validation Accuracy: 0.5966\n",
      "Epoch 16, CIFAR-10 Batch 3:  Loss: 0.6322  Validation Accuracy: 0.6044\n",
      "Epoch 16, CIFAR-10 Batch 4:  Loss: 0.8999  Validation Accuracy: 0.5962\n",
      "Epoch 16, CIFAR-10 Batch 5:  Loss: 0.6865  Validation Accuracy: 0.6122\n",
      "Epoch 17, CIFAR-10 Batch 1:  Loss: 0.8466  Validation Accuracy: 0.5810\n",
      "Epoch 17, CIFAR-10 Batch 2:  Loss: 0.7507  Validation Accuracy: 0.5976\n",
      "Epoch 17, CIFAR-10 Batch 3:  Loss: 0.6670  Validation Accuracy: 0.5914\n",
      "Epoch 17, CIFAR-10 Batch 4:  Loss: 0.7901  Validation Accuracy: 0.6078\n",
      "Epoch 17, CIFAR-10 Batch 5:  Loss: 0.6369  Validation Accuracy: 0.6048\n",
      "Epoch 18, CIFAR-10 Batch 1:  Loss: 0.8253  Validation Accuracy: 0.5966\n",
      "Epoch 18, CIFAR-10 Batch 2:  Loss: 0.7154  Validation Accuracy: 0.6024\n",
      "Epoch 18, CIFAR-10 Batch 3:  Loss: 0.6291  Validation Accuracy: 0.6072\n",
      "Epoch 18, CIFAR-10 Batch 4:  Loss: 0.8043  Validation Accuracy: 0.6096\n",
      "Epoch 18, CIFAR-10 Batch 5:  Loss: 0.6249  Validation Accuracy: 0.6148\n",
      "Epoch 19, CIFAR-10 Batch 1:  Loss: 0.7903  Validation Accuracy: 0.6060\n",
      "Epoch 19, CIFAR-10 Batch 2:  Loss: 0.7113  Validation Accuracy: 0.6032\n",
      "Epoch 19, CIFAR-10 Batch 3:  Loss: 0.5891  Validation Accuracy: 0.6060\n",
      "Epoch 19, CIFAR-10 Batch 4:  Loss: 0.7701  Validation Accuracy: 0.6116\n",
      "Epoch 19, CIFAR-10 Batch 5:  Loss: 0.5846  Validation Accuracy: 0.6148\n",
      "Epoch 20, CIFAR-10 Batch 1:  Loss: 0.7700  Validation Accuracy: 0.6118\n",
      "Epoch 20, CIFAR-10 Batch 2:  Loss: 0.6895  Validation Accuracy: 0.6082\n",
      "Epoch 20, CIFAR-10 Batch 3:  Loss: 0.5449  Validation Accuracy: 0.6106\n",
      "Epoch 20, CIFAR-10 Batch 4:  Loss: 0.7440  Validation Accuracy: 0.6232\n",
      "Epoch 20, CIFAR-10 Batch 5:  Loss: 0.5239  Validation Accuracy: 0.6306\n",
      "Epoch 21, CIFAR-10 Batch 1:  Loss: 0.7096  Validation Accuracy: 0.6192\n",
      "Epoch 21, CIFAR-10 Batch 2:  Loss: 0.6403  Validation Accuracy: 0.6226\n",
      "Epoch 21, CIFAR-10 Batch 3:  Loss: 0.5562  Validation Accuracy: 0.6124\n",
      "Epoch 21, CIFAR-10 Batch 4:  Loss: 0.6908  Validation Accuracy: 0.6234\n",
      "Epoch 21, CIFAR-10 Batch 5:  Loss: 0.5232  Validation Accuracy: 0.6326\n",
      "Epoch 22, CIFAR-10 Batch 1:  Loss: 0.6805  Validation Accuracy: 0.6148\n",
      "Epoch 22, CIFAR-10 Batch 2:  Loss: 0.6282  Validation Accuracy: 0.6044\n",
      "Epoch 22, CIFAR-10 Batch 3:  Loss: 0.5308  Validation Accuracy: 0.6270\n",
      "Epoch 22, CIFAR-10 Batch 4:  Loss: 0.6384  Validation Accuracy: 0.6316\n",
      "Epoch 22, CIFAR-10 Batch 5:  Loss: 0.4973  Validation Accuracy: 0.6316\n",
      "Epoch 23, CIFAR-10 Batch 1:  Loss: 0.6599  Validation Accuracy: 0.6086\n",
      "Epoch 23, CIFAR-10 Batch 2:  Loss: 0.5832  Validation Accuracy: 0.6258\n",
      "Epoch 23, CIFAR-10 Batch 3:  Loss: 0.5687  Validation Accuracy: 0.6170\n",
      "Epoch 23, CIFAR-10 Batch 4:  Loss: 0.6817  Validation Accuracy: 0.6182\n",
      "Epoch 23, CIFAR-10 Batch 5:  Loss: 0.4585  Validation Accuracy: 0.6320\n",
      "Epoch 24, CIFAR-10 Batch 1:  Loss: 0.6522  Validation Accuracy: 0.6106\n",
      "Epoch 24, CIFAR-10 Batch 2:  Loss: 0.6002  Validation Accuracy: 0.6052\n",
      "Epoch 24, CIFAR-10 Batch 3:  Loss: 0.5057  Validation Accuracy: 0.6228\n",
      "Epoch 24, CIFAR-10 Batch 4:  Loss: 0.6265  Validation Accuracy: 0.6254\n",
      "Epoch 24, CIFAR-10 Batch 5:  Loss: 0.4791  Validation Accuracy: 0.6298\n",
      "Epoch 25, CIFAR-10 Batch 1:  Loss: 0.6356  Validation Accuracy: 0.6148\n",
      "Epoch 25, CIFAR-10 Batch 2:  Loss: 0.5806  Validation Accuracy: 0.6328\n",
      "Epoch 25, CIFAR-10 Batch 3:  Loss: 0.5068  Validation Accuracy: 0.6184\n",
      "Epoch 25, CIFAR-10 Batch 4:  Loss: 0.5947  Validation Accuracy: 0.6224\n",
      "Epoch 25, CIFAR-10 Batch 5:  Loss: 0.4412  Validation Accuracy: 0.6322\n",
      "Epoch 26, CIFAR-10 Batch 1:  Loss: 0.6127  Validation Accuracy: 0.6096\n",
      "Epoch 26, CIFAR-10 Batch 2:  Loss: 0.5621  Validation Accuracy: 0.6232\n",
      "Epoch 26, CIFAR-10 Batch 3:  Loss: 0.4865  Validation Accuracy: 0.6114\n",
      "Epoch 26, CIFAR-10 Batch 4:  Loss: 0.6060  Validation Accuracy: 0.6350\n",
      "Epoch 26, CIFAR-10 Batch 5:  Loss: 0.4132  Validation Accuracy: 0.6396\n",
      "Epoch 27, CIFAR-10 Batch 1:  Loss: 0.6192  Validation Accuracy: 0.6164\n",
      "Epoch 27, CIFAR-10 Batch 2:  Loss: 0.5595  Validation Accuracy: 0.6350\n",
      "Epoch 27, CIFAR-10 Batch 3:  Loss: 0.4382  Validation Accuracy: 0.6314\n",
      "Epoch 27, CIFAR-10 Batch 4:  Loss: 0.6016  Validation Accuracy: 0.6298\n",
      "Epoch 27, CIFAR-10 Batch 5:  Loss: 0.4045  Validation Accuracy: 0.6426\n",
      "Epoch 28, CIFAR-10 Batch 1:  Loss: 0.6030  Validation Accuracy: 0.6110\n",
      "Epoch 28, CIFAR-10 Batch 2:  Loss: 0.4863  Validation Accuracy: 0.6368\n",
      "Epoch 28, CIFAR-10 Batch 3:  Loss: 0.4247  Validation Accuracy: 0.6394\n",
      "Epoch 28, CIFAR-10 Batch 4:  Loss: 0.5546  Validation Accuracy: 0.6358\n",
      "Epoch 28, CIFAR-10 Batch 5:  Loss: 0.3845  Validation Accuracy: 0.6372\n",
      "Epoch 29, CIFAR-10 Batch 1:  Loss: 0.5878  Validation Accuracy: 0.6282\n",
      "Epoch 29, CIFAR-10 Batch 2:  Loss: 0.4981  Validation Accuracy: 0.6434\n",
      "Epoch 29, CIFAR-10 Batch 3:  Loss: 0.4222  Validation Accuracy: 0.6200\n",
      "Epoch 29, CIFAR-10 Batch 4:  Loss: 0.5678  Validation Accuracy: 0.6290\n",
      "Epoch 29, CIFAR-10 Batch 5:  Loss: 0.3806  Validation Accuracy: 0.6408\n",
      "Epoch 30, CIFAR-10 Batch 1:  Loss: 0.5599  Validation Accuracy: 0.6292\n",
      "Epoch 30, CIFAR-10 Batch 2:  Loss: 0.4545  Validation Accuracy: 0.6416\n",
      "Epoch 30, CIFAR-10 Batch 3:  Loss: 0.3705  Validation Accuracy: 0.6382\n",
      "Epoch 30, CIFAR-10 Batch 4:  Loss: 0.5332  Validation Accuracy: 0.6250\n",
      "Epoch 30, CIFAR-10 Batch 5:  Loss: 0.3756  Validation Accuracy: 0.6470\n",
      "Epoch 31, CIFAR-10 Batch 1:  Loss: 0.5463  Validation Accuracy: 0.6372\n",
      "Epoch 31, CIFAR-10 Batch 2:  Loss: 0.4421  Validation Accuracy: 0.6290\n",
      "Epoch 31, CIFAR-10 Batch 3:  Loss: 0.3968  Validation Accuracy: 0.6372\n",
      "Epoch 31, CIFAR-10 Batch 4:  Loss: 0.5056  Validation Accuracy: 0.6358\n",
      "Epoch 31, CIFAR-10 Batch 5:  Loss: 0.3685  Validation Accuracy: 0.6388\n",
      "Epoch 32, CIFAR-10 Batch 1:  Loss: 0.5519  Validation Accuracy: 0.6378\n",
      "Epoch 32, CIFAR-10 Batch 2:  Loss: 0.4468  Validation Accuracy: 0.6344\n",
      "Epoch 32, CIFAR-10 Batch 3:  Loss: 0.3848  Validation Accuracy: 0.6244\n",
      "Epoch 32, CIFAR-10 Batch 4:  Loss: 0.4847  Validation Accuracy: 0.6336\n",
      "Epoch 32, CIFAR-10 Batch 5:  Loss: 0.3616  Validation Accuracy: 0.6462\n",
      "Epoch 33, CIFAR-10 Batch 1:  Loss: 0.5571  Validation Accuracy: 0.6188\n",
      "Epoch 33, CIFAR-10 Batch 2:  Loss: 0.4692  Validation Accuracy: 0.6280\n",
      "Epoch 33, CIFAR-10 Batch 3:  Loss: 0.3964  Validation Accuracy: 0.6068\n",
      "Epoch 33, CIFAR-10 Batch 4:  Loss: 0.4881  Validation Accuracy: 0.6304\n",
      "Epoch 33, CIFAR-10 Batch 5:  Loss: 0.3554  Validation Accuracy: 0.6466\n",
      "Epoch 34, CIFAR-10 Batch 1:  Loss: 0.4817  Validation Accuracy: 0.6322\n",
      "Epoch 34, CIFAR-10 Batch 2:  Loss: 0.4474  Validation Accuracy: 0.6322\n",
      "Epoch 34, CIFAR-10 Batch 3:  Loss: 0.3523  Validation Accuracy: 0.6366\n",
      "Epoch 34, CIFAR-10 Batch 4:  Loss: 0.4233  Validation Accuracy: 0.6356\n",
      "Epoch 34, CIFAR-10 Batch 5:  Loss: 0.3350  Validation Accuracy: 0.6522\n",
      "Epoch 35, CIFAR-10 Batch 1:  Loss: 0.4697  Validation Accuracy: 0.6370\n",
      "Epoch 35, CIFAR-10 Batch 2:  Loss: 0.4731  Validation Accuracy: 0.6316\n",
      "Epoch 35, CIFAR-10 Batch 3:  Loss: 0.3371  Validation Accuracy: 0.6344\n",
      "Epoch 35, CIFAR-10 Batch 4:  Loss: 0.5013  Validation Accuracy: 0.6062\n",
      "Epoch 35, CIFAR-10 Batch 5:  Loss: 0.3222  Validation Accuracy: 0.6386\n",
      "Epoch 36, CIFAR-10 Batch 1:  Loss: 0.4564  Validation Accuracy: 0.6292\n",
      "Epoch 36, CIFAR-10 Batch 2:  Loss: 0.4307  Validation Accuracy: 0.6324\n",
      "Epoch 36, CIFAR-10 Batch 3:  Loss: 0.3396  Validation Accuracy: 0.6132\n",
      "Epoch 36, CIFAR-10 Batch 4:  Loss: 0.4674  Validation Accuracy: 0.6226\n",
      "Epoch 36, CIFAR-10 Batch 5:  Loss: 0.3108  Validation Accuracy: 0.6438\n",
      "Epoch 37, CIFAR-10 Batch 1:  Loss: 0.4615  Validation Accuracy: 0.6274\n",
      "Epoch 37, CIFAR-10 Batch 2:  Loss: 0.4311  Validation Accuracy: 0.6306\n",
      "Epoch 37, CIFAR-10 Batch 3:  Loss: 0.3537  Validation Accuracy: 0.6186\n",
      "Epoch 37, CIFAR-10 Batch 4:  Loss: 0.4242  Validation Accuracy: 0.6342\n",
      "Epoch 37, CIFAR-10 Batch 5:  Loss: 0.3075  Validation Accuracy: 0.6486\n",
      "Epoch 38, CIFAR-10 Batch 1:  Loss: 0.4387  Validation Accuracy: 0.6364\n",
      "Epoch 38, CIFAR-10 Batch 2:  Loss: 0.4072  Validation Accuracy: 0.6364\n",
      "Epoch 38, CIFAR-10 Batch 3:  Loss: 0.3738  Validation Accuracy: 0.5998\n",
      "Epoch 38, CIFAR-10 Batch 4:  Loss: 0.4240  Validation Accuracy: 0.6334\n",
      "Epoch 38, CIFAR-10 Batch 5:  Loss: 0.3304  Validation Accuracy: 0.6458\n",
      "Epoch 39, CIFAR-10 Batch 1:  Loss: 0.4379  Validation Accuracy: 0.6418\n",
      "Epoch 39, CIFAR-10 Batch 2:  Loss: 0.3932  Validation Accuracy: 0.6472\n",
      "Epoch 39, CIFAR-10 Batch 3:  Loss: 0.3375  Validation Accuracy: 0.6394\n",
      "Epoch 39, CIFAR-10 Batch 4:  Loss: 0.4067  Validation Accuracy: 0.6474\n",
      "Epoch 39, CIFAR-10 Batch 5:  Loss: 0.2993  Validation Accuracy: 0.6454\n",
      "Epoch 40, CIFAR-10 Batch 1:  Loss: 0.4051  Validation Accuracy: 0.6432\n",
      "Epoch 40, CIFAR-10 Batch 2:  Loss: 0.3624  Validation Accuracy: 0.6428\n",
      "Epoch 40, CIFAR-10 Batch 3:  Loss: 0.3075  Validation Accuracy: 0.6276\n",
      "Epoch 40, CIFAR-10 Batch 4:  Loss: 0.3944  Validation Accuracy: 0.6370\n",
      "Epoch 40, CIFAR-10 Batch 5:  Loss: 0.2922  Validation Accuracy: 0.6486\n",
      "Epoch 41, CIFAR-10 Batch 1:  Loss: 0.4176  Validation Accuracy: 0.6352\n",
      "Epoch 41, CIFAR-10 Batch 2:  Loss: 0.3518  Validation Accuracy: 0.6526\n",
      "Epoch 41, CIFAR-10 Batch 3:  Loss: 0.3209  Validation Accuracy: 0.6462\n",
      "Epoch 41, CIFAR-10 Batch 4:  Loss: 0.3911  Validation Accuracy: 0.6422\n",
      "Epoch 41, CIFAR-10 Batch 5:  Loss: 0.3045  Validation Accuracy: 0.6450\n",
      "Epoch 42, CIFAR-10 Batch 1:  Loss: 0.3912  Validation Accuracy: 0.6416\n",
      "Epoch 42, CIFAR-10 Batch 2:  Loss: 0.3448  Validation Accuracy: 0.6500\n",
      "Epoch 42, CIFAR-10 Batch 3:  Loss: 0.2905  Validation Accuracy: 0.6374\n",
      "Epoch 42, CIFAR-10 Batch 4:  Loss: 0.3845  Validation Accuracy: 0.6428\n",
      "Epoch 42, CIFAR-10 Batch 5:  Loss: 0.2831  Validation Accuracy: 0.6468\n",
      "Epoch 43, CIFAR-10 Batch 1:  Loss: 0.3866  Validation Accuracy: 0.6466\n",
      "Epoch 43, CIFAR-10 Batch 2:  Loss: 0.3314  Validation Accuracy: 0.6296\n",
      "Epoch 43, CIFAR-10 Batch 3:  Loss: 0.3027  Validation Accuracy: 0.6252\n",
      "Epoch 43, CIFAR-10 Batch 4:  Loss: 0.3716  Validation Accuracy: 0.6330\n",
      "Epoch 43, CIFAR-10 Batch 5:  Loss: 0.2905  Validation Accuracy: 0.6324\n",
      "Epoch 44, CIFAR-10 Batch 1:  Loss: 0.3709  Validation Accuracy: 0.6348\n",
      "Epoch 44, CIFAR-10 Batch 2:  Loss: 0.3476  Validation Accuracy: 0.6312\n",
      "Epoch 44, CIFAR-10 Batch 3:  Loss: 0.2899  Validation Accuracy: 0.6252\n",
      "Epoch 44, CIFAR-10 Batch 4:  Loss: 0.3553  Validation Accuracy: 0.6296\n",
      "Epoch 44, CIFAR-10 Batch 5:  Loss: 0.2717  Validation Accuracy: 0.6392\n",
      "Epoch 45, CIFAR-10 Batch 1:  Loss: 0.3694  Validation Accuracy: 0.6360\n",
      "Epoch 45, CIFAR-10 Batch 2:  Loss: 0.3413  Validation Accuracy: 0.6304\n",
      "Epoch 45, CIFAR-10 Batch 3:  Loss: 0.2766  Validation Accuracy: 0.6414\n",
      "Epoch 45, CIFAR-10 Batch 4:  Loss: 0.3524  Validation Accuracy: 0.6304\n",
      "Epoch 45, CIFAR-10 Batch 5:  Loss: 0.2908  Validation Accuracy: 0.6438\n",
      "Epoch 46, CIFAR-10 Batch 1:  Loss: 0.3792  Validation Accuracy: 0.6404\n",
      "Epoch 46, CIFAR-10 Batch 2:  Loss: 0.3384  Validation Accuracy: 0.6344\n",
      "Epoch 46, CIFAR-10 Batch 3:  Loss: 0.2679  Validation Accuracy: 0.6324\n",
      "Epoch 46, CIFAR-10 Batch 4:  Loss: 0.3421  Validation Accuracy: 0.6396\n",
      "Epoch 46, CIFAR-10 Batch 5:  Loss: 0.2892  Validation Accuracy: 0.6428\n",
      "Epoch 47, CIFAR-10 Batch 1:  Loss: 0.3916  Validation Accuracy: 0.6462\n",
      "Epoch 47, CIFAR-10 Batch 2:  Loss: 0.3372  Validation Accuracy: 0.6394\n",
      "Epoch 47, CIFAR-10 Batch 3:  Loss: 0.2645  Validation Accuracy: 0.6396\n",
      "Epoch 47, CIFAR-10 Batch 4:  Loss: 0.3455  Validation Accuracy: 0.6540\n",
      "Epoch 47, CIFAR-10 Batch 5:  Loss: 0.2777  Validation Accuracy: 0.6320\n",
      "Epoch 48, CIFAR-10 Batch 1:  Loss: 0.3612  Validation Accuracy: 0.6544\n",
      "Epoch 48, CIFAR-10 Batch 2:  Loss: 0.3094  Validation Accuracy: 0.6454\n",
      "Epoch 48, CIFAR-10 Batch 3:  Loss: 0.2499  Validation Accuracy: 0.6562\n",
      "Epoch 48, CIFAR-10 Batch 4:  Loss: 0.3579  Validation Accuracy: 0.6436\n",
      "Epoch 48, CIFAR-10 Batch 5:  Loss: 0.2731  Validation Accuracy: 0.6492\n",
      "Epoch 49, CIFAR-10 Batch 1:  Loss: 0.3780  Validation Accuracy: 0.6418\n",
      "Epoch 49, CIFAR-10 Batch 2:  Loss: 0.3005  Validation Accuracy: 0.6324\n",
      "Epoch 49, CIFAR-10 Batch 3:  Loss: 0.2516  Validation Accuracy: 0.6512\n",
      "Epoch 49, CIFAR-10 Batch 4:  Loss: 0.3675  Validation Accuracy: 0.6340\n",
      "Epoch 49, CIFAR-10 Batch 5:  Loss: 0.2883  Validation Accuracy: 0.6420\n",
      "Epoch 50, CIFAR-10 Batch 1:  Loss: 0.4280  Validation Accuracy: 0.6308\n",
      "Epoch 50, CIFAR-10 Batch 2:  Loss: 0.3101  Validation Accuracy: 0.6422\n",
      "Epoch 50, CIFAR-10 Batch 3:  Loss: 0.2526  Validation Accuracy: 0.6554\n",
      "Epoch 50, CIFAR-10 Batch 4:  Loss: 0.3487  Validation Accuracy: 0.6348\n",
      "Epoch 50, CIFAR-10 Batch 5:  Loss: 0.2617  Validation Accuracy: 0.6418\n",
      "Epoch 51, CIFAR-10 Batch 1:  Loss: 0.3641  Validation Accuracy: 0.6394\n",
      "Epoch 51, CIFAR-10 Batch 2:  Loss: 0.2870  Validation Accuracy: 0.6398\n",
      "Epoch 51, CIFAR-10 Batch 3:  Loss: 0.2411  Validation Accuracy: 0.6546\n",
      "Epoch 51, CIFAR-10 Batch 4:  Loss: 0.3327  Validation Accuracy: 0.6348\n",
      "Epoch 51, CIFAR-10 Batch 5:  Loss: 0.2501  Validation Accuracy: 0.6488\n",
      "Epoch 52, CIFAR-10 Batch 1:  Loss: 0.3731  Validation Accuracy: 0.6390\n",
      "Epoch 52, CIFAR-10 Batch 2:  Loss: 0.2928  Validation Accuracy: 0.6406\n",
      "Epoch 52, CIFAR-10 Batch 3:  Loss: 0.2405  Validation Accuracy: 0.6568\n",
      "Epoch 52, CIFAR-10 Batch 4:  Loss: 0.3327  Validation Accuracy: 0.6334\n",
      "Epoch 52, CIFAR-10 Batch 5:  Loss: 0.2160  Validation Accuracy: 0.6474\n",
      "Epoch 53, CIFAR-10 Batch 1:  Loss: 0.3493  Validation Accuracy: 0.6344\n",
      "Epoch 53, CIFAR-10 Batch 2:  Loss: 0.2666  Validation Accuracy: 0.6428\n",
      "Epoch 53, CIFAR-10 Batch 3:  Loss: 0.2388  Validation Accuracy: 0.6454\n",
      "Epoch 53, CIFAR-10 Batch 4:  Loss: 0.3200  Validation Accuracy: 0.6378\n",
      "Epoch 53, CIFAR-10 Batch 5:  Loss: 0.2300  Validation Accuracy: 0.6528\n",
      "Epoch 54, CIFAR-10 Batch 1:  Loss: 0.3733  Validation Accuracy: 0.6178\n",
      "Epoch 54, CIFAR-10 Batch 2:  Loss: 0.3019  Validation Accuracy: 0.6290\n",
      "Epoch 54, CIFAR-10 Batch 3:  Loss: 0.2400  Validation Accuracy: 0.6376\n",
      "Epoch 54, CIFAR-10 Batch 4:  Loss: 0.3577  Validation Accuracy: 0.6276\n",
      "Epoch 54, CIFAR-10 Batch 5:  Loss: 0.2236  Validation Accuracy: 0.6530\n",
      "Epoch 55, CIFAR-10 Batch 1:  Loss: 0.3323  Validation Accuracy: 0.6360\n",
      "Epoch 55, CIFAR-10 Batch 2:  Loss: 0.2600  Validation Accuracy: 0.6308\n",
      "Epoch 55, CIFAR-10 Batch 3:  Loss: 0.2206  Validation Accuracy: 0.6520\n",
      "Epoch 55, CIFAR-10 Batch 4:  Loss: 0.3429  Validation Accuracy: 0.6312\n",
      "Epoch 55, CIFAR-10 Batch 5:  Loss: 0.2190  Validation Accuracy: 0.6502\n",
      "Epoch 56, CIFAR-10 Batch 1:  Loss: 0.3055  Validation Accuracy: 0.6400\n",
      "Epoch 56, CIFAR-10 Batch 2:  Loss: 0.2594  Validation Accuracy: 0.6422\n",
      "Epoch 56, CIFAR-10 Batch 3:  Loss: 0.2274  Validation Accuracy: 0.6526\n",
      "Epoch 56, CIFAR-10 Batch 4:  Loss: 0.3353  Validation Accuracy: 0.6284\n",
      "Epoch 56, CIFAR-10 Batch 5:  Loss: 0.2343  Validation Accuracy: 0.6504\n",
      "Epoch 57, CIFAR-10 Batch 1:  Loss: 0.3137  Validation Accuracy: 0.6350\n",
      "Epoch 57, CIFAR-10 Batch 2:  Loss: 0.2665  Validation Accuracy: 0.6426\n",
      "Epoch 57, CIFAR-10 Batch 3:  Loss: 0.2312  Validation Accuracy: 0.6540\n",
      "Epoch 57, CIFAR-10 Batch 4:  Loss: 0.2990  Validation Accuracy: 0.6476\n",
      "Epoch 57, CIFAR-10 Batch 5:  Loss: 0.2097  Validation Accuracy: 0.6534\n",
      "Epoch 58, CIFAR-10 Batch 1:  Loss: 0.3075  Validation Accuracy: 0.6314\n",
      "Epoch 58, CIFAR-10 Batch 2:  Loss: 0.2558  Validation Accuracy: 0.6470\n",
      "Epoch 58, CIFAR-10 Batch 3:  Loss: 0.2645  Validation Accuracy: 0.6482\n",
      "Epoch 58, CIFAR-10 Batch 4:  Loss: 0.3015  Validation Accuracy: 0.6478\n",
      "Epoch 58, CIFAR-10 Batch 5:  Loss: 0.2121  Validation Accuracy: 0.6438\n",
      "Epoch 59, CIFAR-10 Batch 1:  Loss: 0.3046  Validation Accuracy: 0.6440\n",
      "Epoch 59, CIFAR-10 Batch 2:  Loss: 0.2689  Validation Accuracy: 0.6296\n",
      "Epoch 59, CIFAR-10 Batch 3:  Loss: 0.2326  Validation Accuracy: 0.6476\n",
      "Epoch 59, CIFAR-10 Batch 4:  Loss: 0.3182  Validation Accuracy: 0.6344\n",
      "Epoch 59, CIFAR-10 Batch 5:  Loss: 0.2111  Validation Accuracy: 0.6408\n",
      "Epoch 60, CIFAR-10 Batch 1:  Loss: 0.3246  Validation Accuracy: 0.6378\n",
      "Epoch 60, CIFAR-10 Batch 2:  Loss: 0.2648  Validation Accuracy: 0.6424\n",
      "Epoch 60, CIFAR-10 Batch 3:  Loss: 0.2256  Validation Accuracy: 0.6538\n",
      "Epoch 60, CIFAR-10 Batch 4:  Loss: 0.3239  Validation Accuracy: 0.6210\n",
      "Epoch 60, CIFAR-10 Batch 5:  Loss: 0.2322  Validation Accuracy: 0.6274\n",
      "Epoch 61, CIFAR-10 Batch 1:  Loss: 0.2865  Validation Accuracy: 0.6496\n",
      "Epoch 61, CIFAR-10 Batch 2:  Loss: 0.2661  Validation Accuracy: 0.6438\n",
      "Epoch 61, CIFAR-10 Batch 3:  Loss: 0.2210  Validation Accuracy: 0.6512\n",
      "Epoch 61, CIFAR-10 Batch 4:  Loss: 0.3262  Validation Accuracy: 0.6090\n",
      "Epoch 61, CIFAR-10 Batch 5:  Loss: 0.2232  Validation Accuracy: 0.6228\n",
      "Epoch 62, CIFAR-10 Batch 1:  Loss: 0.2834  Validation Accuracy: 0.6456\n",
      "Epoch 62, CIFAR-10 Batch 2:  Loss: 0.2854  Validation Accuracy: 0.6276\n",
      "Epoch 62, CIFAR-10 Batch 3:  Loss: 0.2391  Validation Accuracy: 0.6516\n",
      "Epoch 62, CIFAR-10 Batch 4:  Loss: 0.3325  Validation Accuracy: 0.6140\n",
      "Epoch 62, CIFAR-10 Batch 5:  Loss: 0.2150  Validation Accuracy: 0.6402\n",
      "Epoch 63, CIFAR-10 Batch 1:  Loss: 0.2650  Validation Accuracy: 0.6428\n",
      "Epoch 63, CIFAR-10 Batch 2:  Loss: 0.2696  Validation Accuracy: 0.6236\n",
      "Epoch 63, CIFAR-10 Batch 3:  Loss: 0.2413  Validation Accuracy: 0.6490\n",
      "Epoch 63, CIFAR-10 Batch 4:  Loss: 0.2805  Validation Accuracy: 0.6308\n",
      "Epoch 63, CIFAR-10 Batch 5:  Loss: 0.2113  Validation Accuracy: 0.6400\n",
      "Epoch 64, CIFAR-10 Batch 1:  Loss: 0.2712  Validation Accuracy: 0.6426\n",
      "Epoch 64, CIFAR-10 Batch 2:  Loss: 0.2723  Validation Accuracy: 0.6206\n",
      "Epoch 64, CIFAR-10 Batch 3:  Loss: 0.2622  Validation Accuracy: 0.6412\n",
      "Epoch 64, CIFAR-10 Batch 4:  Loss: 0.3032  Validation Accuracy: 0.6282\n",
      "Epoch 64, CIFAR-10 Batch 5:  Loss: 0.2025  Validation Accuracy: 0.6464\n",
      "Epoch 65, CIFAR-10 Batch 1:  Loss: 0.2795  Validation Accuracy: 0.6376\n",
      "Epoch 65, CIFAR-10 Batch 2:  Loss: 0.2489  Validation Accuracy: 0.6264\n",
      "Epoch 65, CIFAR-10 Batch 3:  Loss: 0.2479  Validation Accuracy: 0.6322\n",
      "Epoch 65, CIFAR-10 Batch 4:  Loss: 0.2795  Validation Accuracy: 0.6378\n",
      "Epoch 65, CIFAR-10 Batch 5:  Loss: 0.2124  Validation Accuracy: 0.6358\n",
      "Epoch 66, CIFAR-10 Batch 1:  Loss: 0.2587  Validation Accuracy: 0.6452\n",
      "Epoch 66, CIFAR-10 Batch 2:  Loss: 0.2988  Validation Accuracy: 0.6108\n",
      "Epoch 66, CIFAR-10 Batch 3:  Loss: 0.2073  Validation Accuracy: 0.6386\n",
      "Epoch 66, CIFAR-10 Batch 4:  Loss: 0.2663  Validation Accuracy: 0.6330\n",
      "Epoch 66, CIFAR-10 Batch 5:  Loss: 0.2007  Validation Accuracy: 0.6486\n",
      "Epoch 67, CIFAR-10 Batch 1:  Loss: 0.2546  Validation Accuracy: 0.6434\n",
      "Epoch 67, CIFAR-10 Batch 2:  Loss: 0.2880  Validation Accuracy: 0.6150\n",
      "Epoch 67, CIFAR-10 Batch 3:  Loss: 0.2007  Validation Accuracy: 0.6262\n",
      "Epoch 67, CIFAR-10 Batch 4:  Loss: 0.2541  Validation Accuracy: 0.6290\n",
      "Epoch 67, CIFAR-10 Batch 5:  Loss: 0.2021  Validation Accuracy: 0.6390\n",
      "Epoch 68, CIFAR-10 Batch 1:  Loss: 0.2647  Validation Accuracy: 0.6356\n",
      "Epoch 68, CIFAR-10 Batch 2:  Loss: 0.2966  Validation Accuracy: 0.6036\n",
      "Epoch 68, CIFAR-10 Batch 3:  Loss: 0.2285  Validation Accuracy: 0.6198\n",
      "Epoch 68, CIFAR-10 Batch 4:  Loss: 0.2439  Validation Accuracy: 0.6390\n",
      "Epoch 68, CIFAR-10 Batch 5:  Loss: 0.2083  Validation Accuracy: 0.6400\n",
      "Epoch 69, CIFAR-10 Batch 1:  Loss: 0.2751  Validation Accuracy: 0.6436\n",
      "Epoch 69, CIFAR-10 Batch 2:  Loss: 0.2694  Validation Accuracy: 0.6266\n",
      "Epoch 69, CIFAR-10 Batch 3:  Loss: 0.2105  Validation Accuracy: 0.6280\n",
      "Epoch 69, CIFAR-10 Batch 4:  Loss: 0.2398  Validation Accuracy: 0.6422\n",
      "Epoch 69, CIFAR-10 Batch 5:  Loss: 0.1950  Validation Accuracy: 0.6372\n",
      "Epoch 70, CIFAR-10 Batch 1:  Loss: 0.2716  Validation Accuracy: 0.6420\n",
      "Epoch 70, CIFAR-10 Batch 2:  Loss: 0.2436  Validation Accuracy: 0.6402\n",
      "Epoch 70, CIFAR-10 Batch 3:  Loss: 0.2004  Validation Accuracy: 0.6508\n",
      "Epoch 70, CIFAR-10 Batch 4:  Loss: 0.2300  Validation Accuracy: 0.6410\n",
      "Epoch 70, CIFAR-10 Batch 5:  Loss: 0.1930  Validation Accuracy: 0.6328\n",
      "Epoch 71, CIFAR-10 Batch 1:  Loss: 0.2587  Validation Accuracy: 0.6426\n",
      "Epoch 71, CIFAR-10 Batch 2:  Loss: 0.2366  Validation Accuracy: 0.6370\n",
      "Epoch 71, CIFAR-10 Batch 3:  Loss: 0.1911  Validation Accuracy: 0.6486\n",
      "Epoch 71, CIFAR-10 Batch 4:  Loss: 0.2198  Validation Accuracy: 0.6358\n",
      "Epoch 71, CIFAR-10 Batch 5:  Loss: 0.1809  Validation Accuracy: 0.6346\n",
      "Epoch 72, CIFAR-10 Batch 1:  Loss: 0.2598  Validation Accuracy: 0.6372\n",
      "Epoch 72, CIFAR-10 Batch 2:  Loss: 0.2436  Validation Accuracy: 0.6452\n",
      "Epoch 72, CIFAR-10 Batch 3:  Loss: 0.2185  Validation Accuracy: 0.6304\n",
      "Epoch 72, CIFAR-10 Batch 4:  Loss: 0.2427  Validation Accuracy: 0.6314\n",
      "Epoch 72, CIFAR-10 Batch 5:  Loss: 0.1732  Validation Accuracy: 0.6368\n",
      "Epoch 73, CIFAR-10 Batch 1:  Loss: 0.2552  Validation Accuracy: 0.6416\n",
      "Epoch 73, CIFAR-10 Batch 2:  Loss: 0.2245  Validation Accuracy: 0.6466\n",
      "Epoch 73, CIFAR-10 Batch 3:  Loss: 0.1961  Validation Accuracy: 0.6438\n",
      "Epoch 73, CIFAR-10 Batch 4:  Loss: 0.2209  Validation Accuracy: 0.6416\n",
      "Epoch 73, CIFAR-10 Batch 5:  Loss: 0.1814  Validation Accuracy: 0.6326\n",
      "Epoch 74, CIFAR-10 Batch 1:  Loss: 0.2662  Validation Accuracy: 0.6360\n",
      "Epoch 74, CIFAR-10 Batch 2:  Loss: 0.2216  Validation Accuracy: 0.6350\n",
      "Epoch 74, CIFAR-10 Batch 3:  Loss: 0.1966  Validation Accuracy: 0.6484\n",
      "Epoch 74, CIFAR-10 Batch 4:  Loss: 0.2557  Validation Accuracy: 0.6176\n",
      "Epoch 74, CIFAR-10 Batch 5:  Loss: 0.1733  Validation Accuracy: 0.6292\n",
      "Epoch 75, CIFAR-10 Batch 1:  Loss: 0.2501  Validation Accuracy: 0.6418\n",
      "Epoch 75, CIFAR-10 Batch 2:  Loss: 0.2571  Validation Accuracy: 0.6328\n",
      "Epoch 75, CIFAR-10 Batch 3:  Loss: 0.2178  Validation Accuracy: 0.6292\n",
      "Epoch 75, CIFAR-10 Batch 4:  Loss: 0.2362  Validation Accuracy: 0.6288\n",
      "Epoch 75, CIFAR-10 Batch 5:  Loss: 0.1634  Validation Accuracy: 0.6386\n",
      "Epoch 76, CIFAR-10 Batch 1:  Loss: 0.2718  Validation Accuracy: 0.6322\n",
      "Epoch 76, CIFAR-10 Batch 2:  Loss: 0.2238  Validation Accuracy: 0.6388\n",
      "Epoch 76, CIFAR-10 Batch 3:  Loss: 0.1720  Validation Accuracy: 0.6512\n",
      "Epoch 76, CIFAR-10 Batch 4:  Loss: 0.2498  Validation Accuracy: 0.6192\n",
      "Epoch 76, CIFAR-10 Batch 5:  Loss: 0.1589  Validation Accuracy: 0.6454\n",
      "Epoch 77, CIFAR-10 Batch 1:  Loss: 0.2742  Validation Accuracy: 0.6272\n",
      "Epoch 77, CIFAR-10 Batch 2:  Loss: 0.2427  Validation Accuracy: 0.6346\n",
      "Epoch 77, CIFAR-10 Batch 3:  Loss: 0.1961  Validation Accuracy: 0.6418\n",
      "Epoch 77, CIFAR-10 Batch 4:  Loss: 0.2515  Validation Accuracy: 0.6248\n",
      "Epoch 77, CIFAR-10 Batch 5:  Loss: 0.1556  Validation Accuracy: 0.6414\n",
      "Epoch 78, CIFAR-10 Batch 1:  Loss: 0.2605  Validation Accuracy: 0.6272\n",
      "Epoch 78, CIFAR-10 Batch 2:  Loss: 0.2515  Validation Accuracy: 0.6420\n",
      "Epoch 78, CIFAR-10 Batch 3:  Loss: 0.1898  Validation Accuracy: 0.6500\n",
      "Epoch 78, CIFAR-10 Batch 4:  Loss: 0.2189  Validation Accuracy: 0.6356\n",
      "Epoch 78, CIFAR-10 Batch 5:  Loss: 0.1661  Validation Accuracy: 0.6428\n",
      "Epoch 79, CIFAR-10 Batch 1:  Loss: 0.2716  Validation Accuracy: 0.6246\n",
      "Epoch 79, CIFAR-10 Batch 2:  Loss: 0.2443  Validation Accuracy: 0.6450\n",
      "Epoch 79, CIFAR-10 Batch 3:  Loss: 0.1784  Validation Accuracy: 0.6496\n",
      "Epoch 79, CIFAR-10 Batch 4:  Loss: 0.2389  Validation Accuracy: 0.6320\n",
      "Epoch 79, CIFAR-10 Batch 5:  Loss: 0.1790  Validation Accuracy: 0.6336\n",
      "Epoch 80, CIFAR-10 Batch 1:  Loss: 0.3127  Validation Accuracy: 0.5988\n",
      "Epoch 80, CIFAR-10 Batch 2:  Loss: 0.2769  Validation Accuracy: 0.6244\n",
      "Epoch 80, CIFAR-10 Batch 3:  Loss: 0.1831  Validation Accuracy: 0.6418\n",
      "Epoch 80, CIFAR-10 Batch 4:  Loss: 0.2196  Validation Accuracy: 0.6372\n",
      "Epoch 80, CIFAR-10 Batch 5:  Loss: 0.2192  Validation Accuracy: 0.6426\n",
      "Epoch 81, CIFAR-10 Batch 1:  Loss: 0.3104  Validation Accuracy: 0.6128\n",
      "Epoch 81, CIFAR-10 Batch 2:  Loss: 0.2602  Validation Accuracy: 0.6324\n",
      "Epoch 81, CIFAR-10 Batch 3:  Loss: 0.1870  Validation Accuracy: 0.6450\n",
      "Epoch 81, CIFAR-10 Batch 4:  Loss: 0.2290  Validation Accuracy: 0.6382\n",
      "Epoch 81, CIFAR-10 Batch 5:  Loss: 0.1880  Validation Accuracy: 0.6394\n",
      "Epoch 82, CIFAR-10 Batch 1:  Loss: 0.2928  Validation Accuracy: 0.6054\n",
      "Epoch 82, CIFAR-10 Batch 2:  Loss: 0.2574  Validation Accuracy: 0.6316\n",
      "Epoch 82, CIFAR-10 Batch 3:  Loss: 0.2122  Validation Accuracy: 0.6394\n",
      "Epoch 82, CIFAR-10 Batch 4:  Loss: 0.2171  Validation Accuracy: 0.6400\n",
      "Epoch 82, CIFAR-10 Batch 5:  Loss: 0.1932  Validation Accuracy: 0.6374\n",
      "Epoch 83, CIFAR-10 Batch 1:  Loss: 0.2793  Validation Accuracy: 0.6216\n",
      "Epoch 83, CIFAR-10 Batch 2:  Loss: 0.2431  Validation Accuracy: 0.6240\n",
      "Epoch 83, CIFAR-10 Batch 3:  Loss: 0.1960  Validation Accuracy: 0.6358\n",
      "Epoch 83, CIFAR-10 Batch 4:  Loss: 0.2049  Validation Accuracy: 0.6428\n",
      "Epoch 83, CIFAR-10 Batch 5:  Loss: 0.2085  Validation Accuracy: 0.6498\n",
      "Epoch 84, CIFAR-10 Batch 1:  Loss: 0.2395  Validation Accuracy: 0.6360\n",
      "Epoch 84, CIFAR-10 Batch 2:  Loss: 0.2303  Validation Accuracy: 0.6360\n",
      "Epoch 84, CIFAR-10 Batch 3:  Loss: 0.1980  Validation Accuracy: 0.6394\n",
      "Epoch 84, CIFAR-10 Batch 4:  Loss: 0.2254  Validation Accuracy: 0.6294\n",
      "Epoch 84, CIFAR-10 Batch 5:  Loss: 0.1802  Validation Accuracy: 0.6502\n",
      "Epoch 85, CIFAR-10 Batch 1:  Loss: 0.2700  Validation Accuracy: 0.6276\n",
      "Epoch 85, CIFAR-10 Batch 2:  Loss: 0.2296  Validation Accuracy: 0.6364\n",
      "Epoch 85, CIFAR-10 Batch 3:  Loss: 0.1832  Validation Accuracy: 0.6418\n",
      "Epoch 85, CIFAR-10 Batch 4:  Loss: 0.2096  Validation Accuracy: 0.6388\n",
      "Epoch 85, CIFAR-10 Batch 5:  Loss: 0.1724  Validation Accuracy: 0.6450\n",
      "Epoch 86, CIFAR-10 Batch 1:  Loss: 0.2597  Validation Accuracy: 0.6400\n",
      "Epoch 86, CIFAR-10 Batch 2:  Loss: 0.2264  Validation Accuracy: 0.6378\n",
      "Epoch 86, CIFAR-10 Batch 3:  Loss: 0.1885  Validation Accuracy: 0.6398\n",
      "Epoch 86, CIFAR-10 Batch 4:  Loss: 0.2105  Validation Accuracy: 0.6424\n",
      "Epoch 86, CIFAR-10 Batch 5:  Loss: 0.1747  Validation Accuracy: 0.6490\n",
      "Epoch 87, CIFAR-10 Batch 1:  Loss: 0.2370  Validation Accuracy: 0.6366\n",
      "Epoch 87, CIFAR-10 Batch 2:  Loss: 0.2093  Validation Accuracy: 0.6366\n",
      "Epoch 87, CIFAR-10 Batch 3:  Loss: 0.1741  Validation Accuracy: 0.6472\n",
      "Epoch 87, CIFAR-10 Batch 4:  Loss: 0.1982  Validation Accuracy: 0.6396\n",
      "Epoch 87, CIFAR-10 Batch 5:  Loss: 0.1822  Validation Accuracy: 0.6462\n",
      "Epoch 88, CIFAR-10 Batch 1:  Loss: 0.2474  Validation Accuracy: 0.6386\n",
      "Epoch 88, CIFAR-10 Batch 2:  Loss: 0.1904  Validation Accuracy: 0.6502\n",
      "Epoch 88, CIFAR-10 Batch 3:  Loss: 0.1778  Validation Accuracy: 0.6440\n",
      "Epoch 88, CIFAR-10 Batch 4:  Loss: 0.2058  Validation Accuracy: 0.6468\n",
      "Epoch 88, CIFAR-10 Batch 5:  Loss: 0.1649  Validation Accuracy: 0.6398\n",
      "Epoch 89, CIFAR-10 Batch 1:  Loss: 0.2460  Validation Accuracy: 0.6386\n",
      "Epoch 89, CIFAR-10 Batch 2:  Loss: 0.1920  Validation Accuracy: 0.6458\n",
      "Epoch 89, CIFAR-10 Batch 3:  Loss: 0.1608  Validation Accuracy: 0.6498\n",
      "Epoch 89, CIFAR-10 Batch 4:  Loss: 0.1980  Validation Accuracy: 0.6404\n",
      "Epoch 89, CIFAR-10 Batch 5:  Loss: 0.1560  Validation Accuracy: 0.6434\n",
      "Epoch 90, CIFAR-10 Batch 1:  Loss: 0.2191  Validation Accuracy: 0.6424\n",
      "Epoch 90, CIFAR-10 Batch 2:  Loss: 0.1853  Validation Accuracy: 0.6482\n",
      "Epoch 90, CIFAR-10 Batch 3:  Loss: 0.1737  Validation Accuracy: 0.6468\n",
      "Epoch 90, CIFAR-10 Batch 4:  Loss: 0.1884  Validation Accuracy: 0.6404\n",
      "Epoch 90, CIFAR-10 Batch 5:  Loss: 0.1495  Validation Accuracy: 0.6502\n",
      "Epoch 91, CIFAR-10 Batch 1:  Loss: 0.2226  Validation Accuracy: 0.6442\n",
      "Epoch 91, CIFAR-10 Batch 2:  Loss: 0.2174  Validation Accuracy: 0.6498\n",
      "Epoch 91, CIFAR-10 Batch 3:  Loss: 0.1689  Validation Accuracy: 0.6368\n",
      "Epoch 91, CIFAR-10 Batch 4:  Loss: 0.1676  Validation Accuracy: 0.6434\n",
      "Epoch 91, CIFAR-10 Batch 5:  Loss: 0.1546  Validation Accuracy: 0.6392\n",
      "Epoch 92, CIFAR-10 Batch 1:  Loss: 0.2123  Validation Accuracy: 0.6364\n",
      "Epoch 92, CIFAR-10 Batch 2:  Loss: 0.1678  Validation Accuracy: 0.6388\n",
      "Epoch 92, CIFAR-10 Batch 3:  Loss: 0.1565  Validation Accuracy: 0.6364\n",
      "Epoch 92, CIFAR-10 Batch 4:  Loss: 0.1873  Validation Accuracy: 0.6390\n",
      "Epoch 92, CIFAR-10 Batch 5:  Loss: 0.1732  Validation Accuracy: 0.6428\n",
      "Epoch 93, CIFAR-10 Batch 1:  Loss: 0.2346  Validation Accuracy: 0.6336\n",
      "Epoch 93, CIFAR-10 Batch 2:  Loss: 0.1776  Validation Accuracy: 0.6410\n",
      "Epoch 93, CIFAR-10 Batch 3:  Loss: 0.1882  Validation Accuracy: 0.6382\n",
      "Epoch 93, CIFAR-10 Batch 4:  Loss: 0.1949  Validation Accuracy: 0.6378\n",
      "Epoch 93, CIFAR-10 Batch 5:  Loss: 0.1514  Validation Accuracy: 0.6416\n",
      "Epoch 94, CIFAR-10 Batch 1:  Loss: 0.2407  Validation Accuracy: 0.6344\n",
      "Epoch 94, CIFAR-10 Batch 2:  Loss: 0.1696  Validation Accuracy: 0.6326\n",
      "Epoch 94, CIFAR-10 Batch 3:  Loss: 0.1772  Validation Accuracy: 0.6340\n",
      "Epoch 94, CIFAR-10 Batch 4:  Loss: 0.1968  Validation Accuracy: 0.6410\n",
      "Epoch 94, CIFAR-10 Batch 5:  Loss: 0.1820  Validation Accuracy: 0.6410\n",
      "Epoch 95, CIFAR-10 Batch 1:  Loss: 0.2244  Validation Accuracy: 0.6336\n",
      "Epoch 95, CIFAR-10 Batch 2:  Loss: 0.1742  Validation Accuracy: 0.6320\n",
      "Epoch 95, CIFAR-10 Batch 3:  Loss: 0.1717  Validation Accuracy: 0.6316\n",
      "Epoch 95, CIFAR-10 Batch 4:  Loss: 0.1783  Validation Accuracy: 0.6318\n",
      "Epoch 95, CIFAR-10 Batch 5:  Loss: 0.1520  Validation Accuracy: 0.6384\n",
      "Epoch 96, CIFAR-10 Batch 1:  Loss: 0.2517  Validation Accuracy: 0.6302\n",
      "Epoch 96, CIFAR-10 Batch 2:  Loss: 0.1708  Validation Accuracy: 0.6336\n",
      "Epoch 96, CIFAR-10 Batch 3:  Loss: 0.1789  Validation Accuracy: 0.6248\n",
      "Epoch 96, CIFAR-10 Batch 4:  Loss: 0.1887  Validation Accuracy: 0.6356\n",
      "Epoch 96, CIFAR-10 Batch 5:  Loss: 0.1775  Validation Accuracy: 0.6246\n",
      "Epoch 97, CIFAR-10 Batch 1:  Loss: 0.2304  Validation Accuracy: 0.6290\n",
      "Epoch 97, CIFAR-10 Batch 2:  Loss: 0.1752  Validation Accuracy: 0.6338\n",
      "Epoch 97, CIFAR-10 Batch 3:  Loss: 0.1847  Validation Accuracy: 0.6234\n",
      "Epoch 97, CIFAR-10 Batch 4:  Loss: 0.2100  Validation Accuracy: 0.6440\n",
      "Epoch 97, CIFAR-10 Batch 5:  Loss: 0.1756  Validation Accuracy: 0.6250\n",
      "Epoch 98, CIFAR-10 Batch 1:  Loss: 0.2312  Validation Accuracy: 0.6346\n",
      "Epoch 98, CIFAR-10 Batch 2:  Loss: 0.1651  Validation Accuracy: 0.6380\n",
      "Epoch 98, CIFAR-10 Batch 3:  Loss: 0.1646  Validation Accuracy: 0.6332\n",
      "Epoch 98, CIFAR-10 Batch 4:  Loss: 0.2051  Validation Accuracy: 0.6398\n",
      "Epoch 98, CIFAR-10 Batch 5:  Loss: 0.1639  Validation Accuracy: 0.6170\n",
      "Epoch 99, CIFAR-10 Batch 1:  Loss: 0.2093  Validation Accuracy: 0.6452\n",
      "Epoch 99, CIFAR-10 Batch 2:  Loss: 0.1753  Validation Accuracy: 0.6388\n",
      "Epoch 99, CIFAR-10 Batch 3:  Loss: 0.1700  Validation Accuracy: 0.6346\n",
      "Epoch 99, CIFAR-10 Batch 4:  Loss: 0.1869  Validation Accuracy: 0.6384\n",
      "Epoch 99, CIFAR-10 Batch 5:  Loss: 0.1447  Validation Accuracy: 0.6144\n",
      "Epoch 100, CIFAR-10 Batch 1:  Loss: 0.2100  Validation Accuracy: 0.6448\n",
      "Epoch 100, CIFAR-10 Batch 2:  Loss: 0.1642  Validation Accuracy: 0.6296\n",
      "Epoch 100, CIFAR-10 Batch 3:  Loss: 0.1953  Validation Accuracy: 0.6218\n",
      "Epoch 100, CIFAR-10 Batch 4:  Loss: 0.1992  Validation Accuracy: 0.6394\n",
      "Epoch 100, CIFAR-10 Batch 5:  Loss: 0.1527  Validation Accuracy: 0.6220\n"
     ]
    }
   ],
   "source": [
    "\"\"\"\n",
    "DON'T MODIFY ANYTHING IN THIS CELL\n",
    "\"\"\"\n",
    "save_model_path = './image_classification'\n",
    "\n",
    "print('Training...')\n",
    "with tf.Session() as sess:\n",
    "    # Initializing the variables\n",
    "    sess.run(tf.global_variables_initializer())\n",
    "    \n",
    "    # Training cycle\n",
    "    for epoch in range(epochs):\n",
    "        # Loop over all batches\n",
    "        n_batches = 5\n",
    "        for batch_i in range(1, n_batches + 1):\n",
    "            for batch_features, batch_labels in helper.load_preprocess_training_batch(batch_i, batch_size):\n",
    "                train_neural_network(sess, optimizer, keep_probability, batch_features, batch_labels)\n",
    "            print('Epoch {:>2}, CIFAR-10 Batch {}:  '.format(epoch + 1, batch_i), end='')\n",
    "            print_stats(sess, batch_features, batch_labels, cost, accuracy)\n",
    "            \n",
    "    # Save Model\n",
    "    saver = tf.train.Saver()\n",
    "    save_path = saver.save(sess, save_model_path)"
   ]
  },
  {
   "cell_type": "markdown",
   "metadata": {},
   "source": [
    "# Checkpoint\n",
    "The model has been saved to disk.\n",
    "## Test Model\n",
    "Test your model against the test dataset.  This will be your final accuracy. You should have an accuracy greater than 50%. If you don't, keep tweaking the model architecture and parameters."
   ]
  },
  {
   "cell_type": "code",
   "execution_count": 193,
   "metadata": {
    "collapsed": false
   },
   "outputs": [
    {
     "name": "stdout",
     "output_type": "stream",
     "text": [
      "Testing Accuracy: 0.61728515625\n",
      "\n"
     ]
    },
    {
     "data": {
      "image/png": "[encoded data removed]",
      "text/plain": [
       "<matplotlib.figure.Figure at 0x10bb3dcf8>"
      ]
     },
     "metadata": {
      "image/png": {
       "height": 319,
       "width": 355
      }
     },
     "output_type": "display_data"
    }
   ],
   "source": [
    "\"\"\"\n",
    "DON'T MODIFY ANYTHING IN THIS CELL\n",
    "\"\"\"\n",
    "%matplotlib inline\n",
    "%config InlineBackend.figure_format = 'retina'\n",
    "\n",
    "import tensorflow as tf\n",
    "import pickle\n",
    "import helper\n",
    "import random\n",
    "\n",
    "# Set batch size if not already set\n",
    "try:\n",
    "    if batch_size:\n",
    "        pass\n",
    "except NameError:\n",
    "    batch_size = 64\n",
    "\n",
    "save_model_path = './image_classification'\n",
    "n_samples = 4\n",
    "top_n_predictions = 3\n",
    "\n",
    "def test_model():\n",
    "    \"\"\"\n",
    "    Test the saved model against the test dataset\n",
    "    \"\"\"\n",
    "\n",
    "    test_features, test_labels = pickle.load(open('preprocess_training.p', mode='rb'))\n",
    "    loaded_graph = tf.Graph()\n",
    "\n",
    "    with tf.Session(graph=loaded_graph) as sess:\n",
    "        # Load model\n",
    "        loader = tf.train.import_meta_graph(save_model_path + '.meta')\n",
    "        loader.restore(sess, save_model_path)\n",
    "\n",
    "        # Get Tensors from loaded model\n",
    "        loaded_x = loaded_graph.get_tensor_by_name('x:0')\n",
    "        loaded_y = loaded_graph.get_tensor_by_name('y:0')\n",
    "        loaded_keep_prob = loaded_graph.get_tensor_by_name('keep_prob:0')\n",
    "        loaded_logits = loaded_graph.get_tensor_by_name('logits:0')\n",
    "        loaded_acc = loaded_graph.get_tensor_by_name('accuracy:0')\n",
    "        \n",
    "        # Get accuracy in batches for memory limitations\n",
    "        test_batch_acc_total = 0\n",
    "        test_batch_count = 0\n",
    "        \n",
    "        for train_feature_batch, train_label_batch in helper.batch_features_labels(test_features, test_labels, batch_size):\n",
    "            test_batch_acc_total += sess.run(\n",
    "                loaded_acc,\n",
    "                feed_dict={loaded_x: train_feature_batch, loaded_y: train_label_batch, loaded_keep_prob: 1.0})\n",
    "            test_batch_count += 1\n",
    "\n",
    "        print('Testing Accuracy: {}\\n'.format(test_batch_acc_total/test_batch_count))\n",
    "\n",
    "        # Print Random Samples\n",
    "        random_test_features, random_test_labels = tuple(zip(*random.sample(list(zip(test_features, test_labels)), n_samples)))\n",
    "        random_test_predictions = sess.run(\n",
    "            tf.nn.top_k(tf.nn.softmax(loaded_logits), top_n_predictions),\n",
    "            feed_dict={loaded_x: random_test_features, loaded_y: random_test_labels, loaded_keep_prob: 1.0})\n",
    "        helper.display_image_predictions(random_test_features, random_test_labels, random_test_predictions)\n",
    "\n",
    "\n",
    "test_model()"
   ]
  },
  {
   "cell_type": "markdown",
   "metadata": {},
   "source": [
    "## Why 50-80% Accuracy?\n",
    "You might be wondering why you can't get an accuracy any higher. First things first, 50% isn't bad for a simple CNN.  Pure guessing would get you 10% accuracy. However, you might notice people are getting scores [well above 80%](http://rodrigob.github.io/are_we_there_yet/build/classification_datasets_results.html#43494641522d3130).  That's because we haven't taught you all there is to know about neural networks. We still need to cover a few more techniques.\n",
    "## Submitting This Project\n",
    "When submitting this project, make sure to run all the cells before saving the notebook.  Save the notebook file as \"dlnd_image_classification.ipynb\" and save it as a HTML file under \"File\" -> \"Download as\".  Include the \"helper.py\" and \"problem_unittests.py\" files in your submission."
   ]
  }
 ],
 "metadata": {
  "kernelspec": {
   "display_name": "Python 3",
   "language": "python",
   "name": "python3"
  },
  "language_info": {
   "codemirror_mode": {
    "name": "ipython",
    "version": 3
   },
   "file_extension": ".py",
   "mimetype": "text/x-python",
   "name": "python",
   "nbconvert_exporter": "python",
   "pygments_lexer": "ipython3",
   "version": "3.5.3"
  }
 },
 "nbformat": 4,
 "nbformat_minor": 0
}
